{
 "cells": [
  {
   "cell_type": "code",
   "execution_count": 87,
   "metadata": {},
   "outputs": [],
   "source": [
    "'''\n",
    "Challenge link\n",
    "https://preppindata.blogspot.com/2023/03/2023-week-9-customer-bank-statements.html\n",
    "'''\n",
    "import pandas as pd\n",
    "import numpy as np"
   ]
  },
  {
   "cell_type": "code",
   "execution_count": 88,
   "metadata": {},
   "outputs": [
    {
     "data": {
      "text/plain": [
       "(   Account Number Account Type Account Holder ID Balance Date  Balance\n",
       " 0        10005367     Platinum          70390615   2023-01-31   728.25\n",
       " 1        10011977        Basic          20123998   2023-01-31   676.54,\n",
       "    Transaction ID Transaction Date   Value Cancelled?\n",
       " 0         1957155       2023-02-01  128.78          N\n",
       " 1        28234510       2023-02-01  163.82          N,\n",
       "    Transaction ID  Account_To  Account_From\n",
       " 0         1957155    27356852      76206810\n",
       " 1         2147025    44242297      24826358)"
      ]
     },
     "execution_count": 88,
     "metadata": {},
     "output_type": "execute_result"
    }
   ],
   "source": [
    "acc_info = pd.read_csv('Account Information.csv')\n",
    "trans_details = pd.read_csv(\"Transaction Detail.csv\")\n",
    "trans_path = pd.read_csv(\"Transaction Path.csv\")\n",
    "\n",
    "acc_info.head(2) , trans_details.head(2) , trans_path.head(2)"
   ]
  },
  {
   "attachments": {},
   "cell_type": "markdown",
   "metadata": {},
   "source": [
    "### For the Transaction Path table:\n",
    "        Make sure field naming convention matches the other tables\n",
    "        i.e. instead of Account_From it should be Account From"
   ]
  },
  {
   "cell_type": "code",
   "execution_count": 89,
   "metadata": {},
   "outputs": [
    {
     "data": {
      "text/html": [
       "<div>\n",
       "<style scoped>\n",
       "    .dataframe tbody tr th:only-of-type {\n",
       "        vertical-align: middle;\n",
       "    }\n",
       "\n",
       "    .dataframe tbody tr th {\n",
       "        vertical-align: top;\n",
       "    }\n",
       "\n",
       "    .dataframe thead th {\n",
       "        text-align: right;\n",
       "    }\n",
       "</style>\n",
       "<table border=\"1\" class=\"dataframe\">\n",
       "  <thead>\n",
       "    <tr style=\"text-align: right;\">\n",
       "      <th></th>\n",
       "      <th>Transaction ID</th>\n",
       "      <th>Account To</th>\n",
       "      <th>Account From</th>\n",
       "    </tr>\n",
       "  </thead>\n",
       "  <tbody>\n",
       "    <tr>\n",
       "      <th>0</th>\n",
       "      <td>1957155</td>\n",
       "      <td>27356852</td>\n",
       "      <td>76206810</td>\n",
       "    </tr>\n",
       "    <tr>\n",
       "      <th>1</th>\n",
       "      <td>2147025</td>\n",
       "      <td>44242297</td>\n",
       "      <td>24826358</td>\n",
       "    </tr>\n",
       "  </tbody>\n",
       "</table>\n",
       "</div>"
      ],
      "text/plain": [
       "   Transaction ID  Account To  Account From\n",
       "0         1957155    27356852      76206810\n",
       "1         2147025    44242297      24826358"
      ]
     },
     "execution_count": 89,
     "metadata": {},
     "output_type": "execute_result"
    }
   ],
   "source": [
    "trans_path.rename(columns={'Account_To' : 'Account To', 'Account_From' : 'Account From'}, inplace=True)\n",
    "trans_path.head(2)"
   ]
  },
  {
   "attachments": {},
   "cell_type": "markdown",
   "metadata": {},
   "source": [
    "### Filter out the cancelled transactions"
   ]
  },
  {
   "cell_type": "code",
   "execution_count": 90,
   "metadata": {},
   "outputs": [
    {
     "name": "stdout",
     "output_type": "stream",
     "text": [
      "<class 'pandas.core.frame.DataFrame'>\n",
      "RangeIndex: 8781 entries, 0 to 8780\n",
      "Data columns (total 4 columns):\n",
      " #   Column            Non-Null Count  Dtype  \n",
      "---  ------            --------------  -----  \n",
      " 0   Transaction ID    8781 non-null   int64  \n",
      " 1   Transaction Date  8781 non-null   object \n",
      " 2   Value             8781 non-null   float64\n",
      " 3   Cancelled?        8781 non-null   object \n",
      "dtypes: float64(1), int64(1), object(2)\n",
      "memory usage: 274.5+ KB\n"
     ]
    }
   ],
   "source": [
    "trans_details.info()"
   ]
  },
  {
   "cell_type": "code",
   "execution_count": 91,
   "metadata": {},
   "outputs": [
    {
     "name": "stdout",
     "output_type": "stream",
     "text": [
      "<class 'pandas.core.frame.DataFrame'>\n",
      "RangeIndex: 8689 entries, 0 to 8688\n",
      "Data columns (total 5 columns):\n",
      " #   Column            Non-Null Count  Dtype  \n",
      "---  ------            --------------  -----  \n",
      " 0   index             8689 non-null   int64  \n",
      " 1   Transaction ID    8689 non-null   int64  \n",
      " 2   Transaction Date  8689 non-null   object \n",
      " 3   Value             8689 non-null   float64\n",
      " 4   Cancelled?        8689 non-null   object \n",
      "dtypes: float64(1), int64(2), object(2)\n",
      "memory usage: 339.5+ KB\n"
     ]
    }
   ],
   "source": [
    "trans_details = trans_details[trans_details['Cancelled?'] == 'N']\n",
    "trans_details = trans_details.reset_index()\n",
    "trans_details.info()"
   ]
  },
  {
   "attachments": {},
   "cell_type": "markdown",
   "metadata": {},
   "source": [
    "### Split the flow into incoming and outgoing transactions"
   ]
  },
  {
   "cell_type": "code",
   "execution_count": 92,
   "metadata": {},
   "outputs": [
    {
     "name": "stdout",
     "output_type": "stream",
     "text": [
      "<class 'pandas.core.frame.DataFrame'>\n",
      "RangeIndex: 8781 entries, 0 to 8780\n",
      "Data columns (total 3 columns):\n",
      " #   Column          Non-Null Count  Dtype\n",
      "---  ------          --------------  -----\n",
      " 0   Transaction ID  8781 non-null   int64\n",
      " 1   Account To      8781 non-null   int64\n",
      " 2   Account From    8781 non-null   int64\n",
      "dtypes: int64(3)\n",
      "memory usage: 205.9 KB\n"
     ]
    },
    {
     "data": {
      "text/plain": [
       "(None,\n",
       "    Transaction ID  Account To  Account From\n",
       " 0         1957155    27356852      76206810\n",
       " 1         2147025    44242297      24826358)"
      ]
     },
     "execution_count": 92,
     "metadata": {},
     "output_type": "execute_result"
    }
   ],
   "source": [
    "trans_path.info() , trans_path.head(2)"
   ]
  },
  {
   "cell_type": "code",
   "execution_count": 93,
   "metadata": {},
   "outputs": [
    {
     "data": {
      "text/html": [
       "<div>\n",
       "<style scoped>\n",
       "    .dataframe tbody tr th:only-of-type {\n",
       "        vertical-align: middle;\n",
       "    }\n",
       "\n",
       "    .dataframe tbody tr th {\n",
       "        vertical-align: top;\n",
       "    }\n",
       "\n",
       "    .dataframe thead th {\n",
       "        text-align: right;\n",
       "    }\n",
       "</style>\n",
       "<table border=\"1\" class=\"dataframe\">\n",
       "  <thead>\n",
       "    <tr style=\"text-align: right;\">\n",
       "      <th></th>\n",
       "      <th>level_0</th>\n",
       "      <th>index</th>\n",
       "      <th>Transaction ID</th>\n",
       "      <th>Transaction Date</th>\n",
       "      <th>Value</th>\n",
       "      <th>Cancelled?</th>\n",
       "      <th>Account To</th>\n",
       "      <th>Account From</th>\n",
       "    </tr>\n",
       "  </thead>\n",
       "  <tbody>\n",
       "    <tr>\n",
       "      <th>0</th>\n",
       "      <td>0</td>\n",
       "      <td>0</td>\n",
       "      <td>1957155</td>\n",
       "      <td>2023-02-01</td>\n",
       "      <td>128.78</td>\n",
       "      <td>N</td>\n",
       "      <td>27356852</td>\n",
       "      <td>76206810</td>\n",
       "    </tr>\n",
       "    <tr>\n",
       "      <th>1</th>\n",
       "      <td>1</td>\n",
       "      <td>1</td>\n",
       "      <td>28234510</td>\n",
       "      <td>2023-02-01</td>\n",
       "      <td>163.82</td>\n",
       "      <td>N</td>\n",
       "      <td>28745450</td>\n",
       "      <td>87373821</td>\n",
       "    </tr>\n",
       "    <tr>\n",
       "      <th>2</th>\n",
       "      <td>2</td>\n",
       "      <td>2</td>\n",
       "      <td>33688648</td>\n",
       "      <td>2023-02-01</td>\n",
       "      <td>54.71</td>\n",
       "      <td>N</td>\n",
       "      <td>48271608</td>\n",
       "      <td>98821521</td>\n",
       "    </tr>\n",
       "    <tr>\n",
       "      <th>3</th>\n",
       "      <td>3</td>\n",
       "      <td>3</td>\n",
       "      <td>41670299</td>\n",
       "      <td>2023-02-01</td>\n",
       "      <td>88.10</td>\n",
       "      <td>N</td>\n",
       "      <td>34128127</td>\n",
       "      <td>80808205</td>\n",
       "    </tr>\n",
       "    <tr>\n",
       "      <th>4</th>\n",
       "      <td>4</td>\n",
       "      <td>5</td>\n",
       "      <td>57723869</td>\n",
       "      <td>2023-02-01</td>\n",
       "      <td>89.22</td>\n",
       "      <td>N</td>\n",
       "      <td>12859818</td>\n",
       "      <td>34902863</td>\n",
       "    </tr>\n",
       "  </tbody>\n",
       "</table>\n",
       "</div>"
      ],
      "text/plain": [
       "   level_0  index  Transaction ID Transaction Date   Value Cancelled?  \\\n",
       "0        0      0         1957155       2023-02-01  128.78          N   \n",
       "1        1      1        28234510       2023-02-01  163.82          N   \n",
       "2        2      2        33688648       2023-02-01   54.71          N   \n",
       "3        3      3        41670299       2023-02-01   88.10          N   \n",
       "4        4      5        57723869       2023-02-01   89.22          N   \n",
       "\n",
       "   Account To  Account From  \n",
       "0    27356852      76206810  \n",
       "1    28745450      87373821  \n",
       "2    48271608      98821521  \n",
       "3    34128127      80808205  \n",
       "4    12859818      34902863  "
      ]
     },
     "execution_count": 93,
     "metadata": {},
     "output_type": "execute_result"
    }
   ],
   "source": [
    "temp = trans_details.merge(trans_path, how='left', on='Transaction ID')\n",
    "temp = temp.reset_index()\n",
    "temp.head(5)"
   ]
  },
  {
   "cell_type": "code",
   "execution_count": 94,
   "metadata": {},
   "outputs": [
    {
     "data": {
      "text/html": [
       "<div>\n",
       "<style scoped>\n",
       "    .dataframe tbody tr th:only-of-type {\n",
       "        vertical-align: middle;\n",
       "    }\n",
       "\n",
       "    .dataframe tbody tr th {\n",
       "        vertical-align: top;\n",
       "    }\n",
       "\n",
       "    .dataframe thead th {\n",
       "        text-align: right;\n",
       "    }\n",
       "</style>\n",
       "<table border=\"1\" class=\"dataframe\">\n",
       "  <thead>\n",
       "    <tr style=\"text-align: right;\">\n",
       "      <th></th>\n",
       "      <th>Transaction ID</th>\n",
       "      <th>Transaction Date</th>\n",
       "      <th>Value</th>\n",
       "      <th>Account To</th>\n",
       "      <th>Account From</th>\n",
       "    </tr>\n",
       "  </thead>\n",
       "  <tbody>\n",
       "    <tr>\n",
       "      <th>0</th>\n",
       "      <td>1957155</td>\n",
       "      <td>2023-02-01</td>\n",
       "      <td>128.78</td>\n",
       "      <td>27356852</td>\n",
       "      <td>76206810</td>\n",
       "    </tr>\n",
       "    <tr>\n",
       "      <th>1</th>\n",
       "      <td>28234510</td>\n",
       "      <td>2023-02-01</td>\n",
       "      <td>163.82</td>\n",
       "      <td>28745450</td>\n",
       "      <td>87373821</td>\n",
       "    </tr>\n",
       "  </tbody>\n",
       "</table>\n",
       "</div>"
      ],
      "text/plain": [
       "   Transaction ID Transaction Date   Value  Account To  Account From\n",
       "0         1957155       2023-02-01  128.78    27356852      76206810\n",
       "1        28234510       2023-02-01  163.82    28745450      87373821"
      ]
     },
     "execution_count": 94,
     "metadata": {},
     "output_type": "execute_result"
    }
   ],
   "source": [
    "temp.drop(columns=['level_0', 'index' , 'Cancelled?'], inplace=True)\n",
    "temp.head(2)"
   ]
  },
  {
   "cell_type": "code",
   "execution_count": 95,
   "metadata": {},
   "outputs": [
    {
     "name": "stdout",
     "output_type": "stream",
     "text": [
      "<class 'pandas.core.frame.DataFrame'>\n",
      "RangeIndex: 8689 entries, 0 to 8688\n",
      "Data columns (total 5 columns):\n",
      " #   Column            Non-Null Count  Dtype  \n",
      "---  ------            --------------  -----  \n",
      " 0   Transaction ID    8689 non-null   int64  \n",
      " 1   Transaction Date  8689 non-null   object \n",
      " 2   Value             8689 non-null   float64\n",
      " 3   Account To        8689 non-null   int64  \n",
      " 4   Account From      8689 non-null   int64  \n",
      "dtypes: float64(1), int64(3), object(1)\n",
      "memory usage: 339.5+ KB\n"
     ]
    }
   ],
   "source": [
    "temp.info()"
   ]
  },
  {
   "cell_type": "code",
   "execution_count": 96,
   "metadata": {},
   "outputs": [],
   "source": [
    "trans_df = pd.DataFrame(columns=['Transaction ID', 'Transaction Date', 'Value', 'Account Number' , 'Flow'])\n",
    "for i in range(len(temp)):\n",
    "    row = temp.loc[i].tolist()\n",
    "    # outgoing\n",
    "    l = len(trans_df)\n",
    "    out = row[:4]\n",
    "    out.append('Outgoing')\n",
    "    trans_df.loc[l] = out\n",
    "\n",
    "    # incoming\n",
    "    l = len(trans_df)\n",
    "    income = row[:3]\n",
    "    income.append(row[-1])\n",
    "    income.append('Incoming')\n",
    "    trans_df.loc[l] = income"
   ]
  },
  {
   "cell_type": "code",
   "execution_count": 97,
   "metadata": {},
   "outputs": [
    {
     "data": {
      "text/html": [
       "<div>\n",
       "<style scoped>\n",
       "    .dataframe tbody tr th:only-of-type {\n",
       "        vertical-align: middle;\n",
       "    }\n",
       "\n",
       "    .dataframe tbody tr th {\n",
       "        vertical-align: top;\n",
       "    }\n",
       "\n",
       "    .dataframe thead th {\n",
       "        text-align: right;\n",
       "    }\n",
       "</style>\n",
       "<table border=\"1\" class=\"dataframe\">\n",
       "  <thead>\n",
       "    <tr style=\"text-align: right;\">\n",
       "      <th></th>\n",
       "      <th>Transaction ID</th>\n",
       "      <th>Transaction Date</th>\n",
       "      <th>Value</th>\n",
       "      <th>Account Number</th>\n",
       "      <th>Flow</th>\n",
       "    </tr>\n",
       "  </thead>\n",
       "  <tbody>\n",
       "    <tr>\n",
       "      <th>0</th>\n",
       "      <td>1957155</td>\n",
       "      <td>2023-02-01</td>\n",
       "      <td>128.78</td>\n",
       "      <td>27356852</td>\n",
       "      <td>Outgoing</td>\n",
       "    </tr>\n",
       "    <tr>\n",
       "      <th>1</th>\n",
       "      <td>1957155</td>\n",
       "      <td>2023-02-01</td>\n",
       "      <td>128.78</td>\n",
       "      <td>76206810</td>\n",
       "      <td>Incoming</td>\n",
       "    </tr>\n",
       "    <tr>\n",
       "      <th>2</th>\n",
       "      <td>28234510</td>\n",
       "      <td>2023-02-01</td>\n",
       "      <td>163.82</td>\n",
       "      <td>28745450</td>\n",
       "      <td>Outgoing</td>\n",
       "    </tr>\n",
       "    <tr>\n",
       "      <th>3</th>\n",
       "      <td>28234510</td>\n",
       "      <td>2023-02-01</td>\n",
       "      <td>163.82</td>\n",
       "      <td>87373821</td>\n",
       "      <td>Incoming</td>\n",
       "    </tr>\n",
       "    <tr>\n",
       "      <th>4</th>\n",
       "      <td>33688648</td>\n",
       "      <td>2023-02-01</td>\n",
       "      <td>54.71</td>\n",
       "      <td>48271608</td>\n",
       "      <td>Outgoing</td>\n",
       "    </tr>\n",
       "  </tbody>\n",
       "</table>\n",
       "</div>"
      ],
      "text/plain": [
       "   Transaction ID Transaction Date   Value  Account Number      Flow\n",
       "0         1957155       2023-02-01  128.78        27356852  Outgoing\n",
       "1         1957155       2023-02-01  128.78        76206810  Incoming\n",
       "2        28234510       2023-02-01  163.82        28745450  Outgoing\n",
       "3        28234510       2023-02-01  163.82        87373821  Incoming\n",
       "4        33688648       2023-02-01   54.71        48271608  Outgoing"
      ]
     },
     "execution_count": 97,
     "metadata": {},
     "output_type": "execute_result"
    }
   ],
   "source": [
    "trans_df.head(5)"
   ]
  },
  {
   "cell_type": "code",
   "execution_count": 98,
   "metadata": {},
   "outputs": [
    {
     "name": "stdout",
     "output_type": "stream",
     "text": [
      "<class 'pandas.core.frame.DataFrame'>\n",
      "Int64Index: 17378 entries, 0 to 17377\n",
      "Data columns (total 5 columns):\n",
      " #   Column            Non-Null Count  Dtype  \n",
      "---  ------            --------------  -----  \n",
      " 0   Transaction ID    17378 non-null  int64  \n",
      " 1   Transaction Date  17378 non-null  object \n",
      " 2   Value             17378 non-null  float64\n",
      " 3   Account Number    17378 non-null  int64  \n",
      " 4   Flow              17378 non-null  object \n",
      "dtypes: float64(1), int64(2), object(2)\n",
      "memory usage: 814.6+ KB\n"
     ]
    }
   ],
   "source": [
    "trans_df.info()"
   ]
  },
  {
   "attachments": {},
   "cell_type": "markdown",
   "metadata": {},
   "source": [
    "### Bring the data together with the Balance as of 31st Jan"
   ]
  },
  {
   "cell_type": "code",
   "execution_count": 99,
   "metadata": {},
   "outputs": [
    {
     "data": {
      "text/html": [
       "<div>\n",
       "<style scoped>\n",
       "    .dataframe tbody tr th:only-of-type {\n",
       "        vertical-align: middle;\n",
       "    }\n",
       "\n",
       "    .dataframe tbody tr th {\n",
       "        vertical-align: top;\n",
       "    }\n",
       "\n",
       "    .dataframe thead th {\n",
       "        text-align: right;\n",
       "    }\n",
       "</style>\n",
       "<table border=\"1\" class=\"dataframe\">\n",
       "  <thead>\n",
       "    <tr style=\"text-align: right;\">\n",
       "      <th></th>\n",
       "      <th>Account Number</th>\n",
       "      <th>Account Type</th>\n",
       "      <th>Account Holder ID</th>\n",
       "      <th>Balance Date</th>\n",
       "      <th>Balance</th>\n",
       "    </tr>\n",
       "  </thead>\n",
       "  <tbody>\n",
       "    <tr>\n",
       "      <th>0</th>\n",
       "      <td>10005367</td>\n",
       "      <td>Platinum</td>\n",
       "      <td>70390615</td>\n",
       "      <td>2023-01-31</td>\n",
       "      <td>728.25</td>\n",
       "    </tr>\n",
       "    <tr>\n",
       "      <th>1</th>\n",
       "      <td>10011977</td>\n",
       "      <td>Basic</td>\n",
       "      <td>20123998</td>\n",
       "      <td>2023-01-31</td>\n",
       "      <td>676.54</td>\n",
       "    </tr>\n",
       "    <tr>\n",
       "      <th>2</th>\n",
       "      <td>10024680</td>\n",
       "      <td>Platinum</td>\n",
       "      <td>54374080</td>\n",
       "      <td>2023-01-31</td>\n",
       "      <td>567.46</td>\n",
       "    </tr>\n",
       "    <tr>\n",
       "      <th>3</th>\n",
       "      <td>10031238</td>\n",
       "      <td>Basic</td>\n",
       "      <td>97027297</td>\n",
       "      <td>2023-01-31</td>\n",
       "      <td>576.52</td>\n",
       "    </tr>\n",
       "    <tr>\n",
       "      <th>4</th>\n",
       "      <td>10034341</td>\n",
       "      <td>Joint</td>\n",
       "      <td>89920386, 97325900</td>\n",
       "      <td>2023-01-31</td>\n",
       "      <td>390.39</td>\n",
       "    </tr>\n",
       "  </tbody>\n",
       "</table>\n",
       "</div>"
      ],
      "text/plain": [
       "   Account Number Account Type   Account Holder ID Balance Date  Balance\n",
       "0        10005367     Platinum            70390615   2023-01-31   728.25\n",
       "1        10011977        Basic            20123998   2023-01-31   676.54\n",
       "2        10024680     Platinum            54374080   2023-01-31   567.46\n",
       "3        10031238        Basic            97027297   2023-01-31   576.52\n",
       "4        10034341        Joint  89920386, 97325900   2023-01-31   390.39"
      ]
     },
     "execution_count": 99,
     "metadata": {},
     "output_type": "execute_result"
    }
   ],
   "source": [
    "acc_info.head(5)"
   ]
  },
  {
   "cell_type": "code",
   "execution_count": 100,
   "metadata": {},
   "outputs": [
    {
     "name": "stdout",
     "output_type": "stream",
     "text": [
      "<class 'pandas.core.frame.DataFrame'>\n",
      "RangeIndex: 3000 entries, 0 to 2999\n",
      "Data columns (total 5 columns):\n",
      " #   Column             Non-Null Count  Dtype  \n",
      "---  ------             --------------  -----  \n",
      " 0   Account Number     3000 non-null   int64  \n",
      " 1   Balance Date       3000 non-null   object \n",
      " 2   Balance            3000 non-null   float64\n",
      " 3   Transaction Value  0 non-null      float64\n",
      " 4   Flow               3000 non-null   object \n",
      "dtypes: float64(2), int64(1), object(2)\n",
      "memory usage: 117.3+ KB\n"
     ]
    }
   ],
   "source": [
    "temp = acc_info\n",
    "temp.drop(columns=['Account Type' , 'Account Holder ID'], inplace=True)\n",
    "temp['Transaction Value'] = np.nan\n",
    "temp['Flow'] = '-'\n",
    "temp.info()"
   ]
  },
  {
   "cell_type": "code",
   "execution_count": 86,
   "metadata": {},
   "outputs": [
    {
     "data": {
      "text/html": [
       "<div>\n",
       "<style scoped>\n",
       "    .dataframe tbody tr th:only-of-type {\n",
       "        vertical-align: middle;\n",
       "    }\n",
       "\n",
       "    .dataframe tbody tr th {\n",
       "        vertical-align: top;\n",
       "    }\n",
       "\n",
       "    .dataframe thead th {\n",
       "        text-align: right;\n",
       "    }\n",
       "</style>\n",
       "<table border=\"1\" class=\"dataframe\">\n",
       "  <thead>\n",
       "    <tr style=\"text-align: right;\">\n",
       "      <th></th>\n",
       "      <th>Transaction ID</th>\n",
       "      <th>Transaction Date</th>\n",
       "      <th>Value</th>\n",
       "      <th>Account Number</th>\n",
       "      <th>Flow</th>\n",
       "    </tr>\n",
       "  </thead>\n",
       "  <tbody>\n",
       "    <tr>\n",
       "      <th>0</th>\n",
       "      <td>1957155</td>\n",
       "      <td>2023-02-01</td>\n",
       "      <td>128.78</td>\n",
       "      <td>27356852</td>\n",
       "      <td>Outgoing</td>\n",
       "    </tr>\n",
       "    <tr>\n",
       "      <th>1</th>\n",
       "      <td>1957155</td>\n",
       "      <td>2023-02-01</td>\n",
       "      <td>128.78</td>\n",
       "      <td>76206810</td>\n",
       "      <td>Incoming</td>\n",
       "    </tr>\n",
       "    <tr>\n",
       "      <th>2</th>\n",
       "      <td>28234510</td>\n",
       "      <td>2023-02-01</td>\n",
       "      <td>163.82</td>\n",
       "      <td>28745450</td>\n",
       "      <td>Outgoing</td>\n",
       "    </tr>\n",
       "    <tr>\n",
       "      <th>3</th>\n",
       "      <td>28234510</td>\n",
       "      <td>2023-02-01</td>\n",
       "      <td>163.82</td>\n",
       "      <td>87373821</td>\n",
       "      <td>Incoming</td>\n",
       "    </tr>\n",
       "    <tr>\n",
       "      <th>4</th>\n",
       "      <td>33688648</td>\n",
       "      <td>2023-02-01</td>\n",
       "      <td>54.71</td>\n",
       "      <td>48271608</td>\n",
       "      <td>Outgoing</td>\n",
       "    </tr>\n",
       "  </tbody>\n",
       "</table>\n",
       "</div>"
      ],
      "text/plain": [
       "   Transaction ID Transaction Date   Value  Account Number      Flow\n",
       "0         1957155       2023-02-01  128.78        27356852  Outgoing\n",
       "1         1957155       2023-02-01  128.78        76206810  Incoming\n",
       "2        28234510       2023-02-01  163.82        28745450  Outgoing\n",
       "3        28234510       2023-02-01  163.82        87373821  Incoming\n",
       "4        33688648       2023-02-01   54.71        48271608  Outgoing"
      ]
     },
     "execution_count": 86,
     "metadata": {},
     "output_type": "execute_result"
    }
   ],
   "source": [
    "trans_df.head(5)"
   ]
  },
  {
   "cell_type": "code",
   "execution_count": 101,
   "metadata": {},
   "outputs": [
    {
     "name": "stdout",
     "output_type": "stream",
     "text": [
      "<class 'pandas.core.frame.DataFrame'>\n",
      "Int64Index: 20378 entries, 0 to 20377\n",
      "Data columns (total 5 columns):\n",
      " #   Column             Non-Null Count  Dtype  \n",
      "---  ------             --------------  -----  \n",
      " 0   Account Number     20378 non-null  int64  \n",
      " 1   Balance Date       20378 non-null  object \n",
      " 2   Balance            20378 non-null  float64\n",
      " 3   Transaction Value  17378 non-null  float64\n",
      " 4   Flow               20378 non-null  object \n",
      "dtypes: float64(2), int64(1), object(2)\n",
      "memory usage: 955.2+ KB\n"
     ]
    }
   ],
   "source": [
    "total_df = temp\n",
    "for i in range(len(trans_df)):\n",
    "    x = trans_df.loc[i]\n",
    "    total_df.loc[len(total_df)] = [x[3], x[1], 0 , x[2], x[4]]\n",
    "\n",
    "total_df.info()"
   ]
  },
  {
   "attachments": {},
   "cell_type": "markdown",
   "metadata": {},
   "source": [
    "### Work out the order that transactions occur for each account\n",
    "        Hint: where multiple transactions happen on the same day, assume the highest value transactions happen first"
   ]
  },
  {
   "cell_type": "code",
   "execution_count": 106,
   "metadata": {},
   "outputs": [
    {
     "name": "stdout",
     "output_type": "stream",
     "text": [
      "<class 'pandas.core.frame.DataFrame'>\n",
      "Int64Index: 20378 entries, 0 to 20377\n",
      "Data columns (total 5 columns):\n",
      " #   Column             Non-Null Count  Dtype         \n",
      "---  ------             --------------  -----         \n",
      " 0   Account Number     20378 non-null  int64         \n",
      " 1   Balance Date       20378 non-null  datetime64[ns]\n",
      " 2   Balance            20378 non-null  float64       \n",
      " 3   Transaction Value  17378 non-null  float64       \n",
      " 4   Flow               20378 non-null  object        \n",
      "dtypes: datetime64[ns](1), float64(2), int64(1), object(1)\n",
      "memory usage: 955.2+ KB\n"
     ]
    }
   ],
   "source": [
    "total_df['Balance Date'] = total_df['Balance Date'].astype('datetime64[ns]')\n",
    "total_df.info()"
   ]
  },
  {
   "cell_type": "code",
   "execution_count": 107,
   "metadata": {},
   "outputs": [
    {
     "data": {
      "text/html": [
       "<div>\n",
       "<style scoped>\n",
       "    .dataframe tbody tr th:only-of-type {\n",
       "        vertical-align: middle;\n",
       "    }\n",
       "\n",
       "    .dataframe tbody tr th {\n",
       "        vertical-align: top;\n",
       "    }\n",
       "\n",
       "    .dataframe thead th {\n",
       "        text-align: right;\n",
       "    }\n",
       "</style>\n",
       "<table border=\"1\" class=\"dataframe\">\n",
       "  <thead>\n",
       "    <tr style=\"text-align: right;\">\n",
       "      <th></th>\n",
       "      <th>Account Number</th>\n",
       "      <th>Balance Date</th>\n",
       "      <th>Balance</th>\n",
       "      <th>Transaction Value</th>\n",
       "      <th>Flow</th>\n",
       "    </tr>\n",
       "  </thead>\n",
       "  <tbody>\n",
       "    <tr>\n",
       "      <th>0</th>\n",
       "      <td>10005367</td>\n",
       "      <td>2023-01-31</td>\n",
       "      <td>728.25</td>\n",
       "      <td>NaN</td>\n",
       "      <td>-</td>\n",
       "    </tr>\n",
       "    <tr>\n",
       "      <th>1</th>\n",
       "      <td>10011977</td>\n",
       "      <td>2023-01-31</td>\n",
       "      <td>676.54</td>\n",
       "      <td>NaN</td>\n",
       "      <td>-</td>\n",
       "    </tr>\n",
       "    <tr>\n",
       "      <th>2</th>\n",
       "      <td>10024680</td>\n",
       "      <td>2023-01-31</td>\n",
       "      <td>567.46</td>\n",
       "      <td>NaN</td>\n",
       "      <td>-</td>\n",
       "    </tr>\n",
       "    <tr>\n",
       "      <th>3</th>\n",
       "      <td>10031238</td>\n",
       "      <td>2023-01-31</td>\n",
       "      <td>576.52</td>\n",
       "      <td>NaN</td>\n",
       "      <td>-</td>\n",
       "    </tr>\n",
       "    <tr>\n",
       "      <th>4</th>\n",
       "      <td>10034341</td>\n",
       "      <td>2023-01-31</td>\n",
       "      <td>390.39</td>\n",
       "      <td>NaN</td>\n",
       "      <td>-</td>\n",
       "    </tr>\n",
       "    <tr>\n",
       "      <th>5</th>\n",
       "      <td>10079965</td>\n",
       "      <td>2023-01-31</td>\n",
       "      <td>799.27</td>\n",
       "      <td>NaN</td>\n",
       "      <td>-</td>\n",
       "    </tr>\n",
       "    <tr>\n",
       "      <th>6</th>\n",
       "      <td>10091076</td>\n",
       "      <td>2023-01-31</td>\n",
       "      <td>831.83</td>\n",
       "      <td>NaN</td>\n",
       "      <td>-</td>\n",
       "    </tr>\n",
       "    <tr>\n",
       "      <th>7</th>\n",
       "      <td>10231977</td>\n",
       "      <td>2023-01-31</td>\n",
       "      <td>61.63</td>\n",
       "      <td>NaN</td>\n",
       "      <td>-</td>\n",
       "    </tr>\n",
       "  </tbody>\n",
       "</table>\n",
       "</div>"
      ],
      "text/plain": [
       "   Account Number Balance Date  Balance  Transaction Value Flow\n",
       "0        10005367   2023-01-31   728.25                NaN    -\n",
       "1        10011977   2023-01-31   676.54                NaN    -\n",
       "2        10024680   2023-01-31   567.46                NaN    -\n",
       "3        10031238   2023-01-31   576.52                NaN    -\n",
       "4        10034341   2023-01-31   390.39                NaN    -\n",
       "5        10079965   2023-01-31   799.27                NaN    -\n",
       "6        10091076   2023-01-31   831.83                NaN    -\n",
       "7        10231977   2023-01-31    61.63                NaN    -"
      ]
     },
     "execution_count": 107,
     "metadata": {},
     "output_type": "execute_result"
    }
   ],
   "source": [
    "total_df.head(8)"
   ]
  },
  {
   "cell_type": "code",
   "execution_count": 119,
   "metadata": {},
   "outputs": [
    {
     "data": {
      "text/html": [
       "<div>\n",
       "<style scoped>\n",
       "    .dataframe tbody tr th:only-of-type {\n",
       "        vertical-align: middle;\n",
       "    }\n",
       "\n",
       "    .dataframe tbody tr th {\n",
       "        vertical-align: top;\n",
       "    }\n",
       "\n",
       "    .dataframe thead th {\n",
       "        text-align: right;\n",
       "    }\n",
       "</style>\n",
       "<table border=\"1\" class=\"dataframe\">\n",
       "  <thead>\n",
       "    <tr style=\"text-align: right;\">\n",
       "      <th></th>\n",
       "      <th>Account Number</th>\n",
       "      <th>Balance Date</th>\n",
       "      <th>Balance</th>\n",
       "      <th>Transaction Value</th>\n",
       "      <th>Flow</th>\n",
       "    </tr>\n",
       "  </thead>\n",
       "  <tbody>\n",
       "    <tr>\n",
       "      <th>20370</th>\n",
       "      <td>99937043</td>\n",
       "      <td>2023-02-02</td>\n",
       "      <td>0.0</td>\n",
       "      <td>142.45</td>\n",
       "      <td>Incoming</td>\n",
       "    </tr>\n",
       "    <tr>\n",
       "      <th>20371</th>\n",
       "      <td>99937043</td>\n",
       "      <td>2023-02-03</td>\n",
       "      <td>0.0</td>\n",
       "      <td>52.49</td>\n",
       "      <td>Incoming</td>\n",
       "    </tr>\n",
       "    <tr>\n",
       "      <th>20372</th>\n",
       "      <td>99937043</td>\n",
       "      <td>2023-02-04</td>\n",
       "      <td>0.0</td>\n",
       "      <td>123.12</td>\n",
       "      <td>Outgoing</td>\n",
       "    </tr>\n",
       "    <tr>\n",
       "      <th>20373</th>\n",
       "      <td>99937043</td>\n",
       "      <td>2023-02-05</td>\n",
       "      <td>0.0</td>\n",
       "      <td>52.36</td>\n",
       "      <td>Outgoing</td>\n",
       "    </tr>\n",
       "    <tr>\n",
       "      <th>20374</th>\n",
       "      <td>99937043</td>\n",
       "      <td>2023-02-06</td>\n",
       "      <td>0.0</td>\n",
       "      <td>92.42</td>\n",
       "      <td>Incoming</td>\n",
       "    </tr>\n",
       "    <tr>\n",
       "      <th>20375</th>\n",
       "      <td>99937043</td>\n",
       "      <td>2023-02-09</td>\n",
       "      <td>0.0</td>\n",
       "      <td>122.91</td>\n",
       "      <td>Incoming</td>\n",
       "    </tr>\n",
       "    <tr>\n",
       "      <th>20376</th>\n",
       "      <td>99937043</td>\n",
       "      <td>2023-02-11</td>\n",
       "      <td>0.0</td>\n",
       "      <td>125.33</td>\n",
       "      <td>Incoming</td>\n",
       "    </tr>\n",
       "    <tr>\n",
       "      <th>20377</th>\n",
       "      <td>99937043</td>\n",
       "      <td>2023-02-13</td>\n",
       "      <td>0.0</td>\n",
       "      <td>75.16</td>\n",
       "      <td>Outgoing</td>\n",
       "    </tr>\n",
       "  </tbody>\n",
       "</table>\n",
       "</div>"
      ],
      "text/plain": [
       "       Account Number Balance Date  Balance  Transaction Value      Flow\n",
       "20370        99937043   2023-02-02      0.0             142.45  Incoming\n",
       "20371        99937043   2023-02-03      0.0              52.49  Incoming\n",
       "20372        99937043   2023-02-04      0.0             123.12  Outgoing\n",
       "20373        99937043   2023-02-05      0.0              52.36  Outgoing\n",
       "20374        99937043   2023-02-06      0.0              92.42  Incoming\n",
       "20375        99937043   2023-02-09      0.0             122.91  Incoming\n",
       "20376        99937043   2023-02-11      0.0             125.33  Incoming\n",
       "20377        99937043   2023-02-13      0.0              75.16  Outgoing"
      ]
     },
     "execution_count": 119,
     "metadata": {},
     "output_type": "execute_result"
    }
   ],
   "source": [
    "\n",
    "temp = total_df.sort_values(['Account Number'], ascending=True).groupby(['Account Number'], sort=False).apply(lambda x: x.sort_values(['Balance Date'], ascending=True)).reset_index(drop=True)\n",
    "temp.tail(8)"
   ]
  },
  {
   "cell_type": "code",
   "execution_count": 121,
   "metadata": {},
   "outputs": [
    {
     "data": {
      "text/html": [
       "<div>\n",
       "<style scoped>\n",
       "    .dataframe tbody tr th:only-of-type {\n",
       "        vertical-align: middle;\n",
       "    }\n",
       "\n",
       "    .dataframe tbody tr th {\n",
       "        vertical-align: top;\n",
       "    }\n",
       "\n",
       "    .dataframe thead th {\n",
       "        text-align: right;\n",
       "    }\n",
       "</style>\n",
       "<table border=\"1\" class=\"dataframe\">\n",
       "  <thead>\n",
       "    <tr style=\"text-align: right;\">\n",
       "      <th></th>\n",
       "      <th>Account Number</th>\n",
       "      <th>Balance Date</th>\n",
       "      <th>Balance</th>\n",
       "      <th>Transaction Value</th>\n",
       "      <th>Flow</th>\n",
       "    </tr>\n",
       "  </thead>\n",
       "  <tbody>\n",
       "    <tr>\n",
       "      <th>0</th>\n",
       "      <td>10005367</td>\n",
       "      <td>2023-01-31</td>\n",
       "      <td>728.25</td>\n",
       "      <td>NaN</td>\n",
       "      <td>-</td>\n",
       "    </tr>\n",
       "    <tr>\n",
       "      <th>1</th>\n",
       "      <td>10005367</td>\n",
       "      <td>2023-02-02</td>\n",
       "      <td>0.00</td>\n",
       "      <td>1097.60</td>\n",
       "      <td>Incoming</td>\n",
       "    </tr>\n",
       "    <tr>\n",
       "      <th>2</th>\n",
       "      <td>10005367</td>\n",
       "      <td>2023-02-04</td>\n",
       "      <td>0.00</td>\n",
       "      <td>144.75</td>\n",
       "      <td>Outgoing</td>\n",
       "    </tr>\n",
       "    <tr>\n",
       "      <th>3</th>\n",
       "      <td>10005367</td>\n",
       "      <td>2023-02-04</td>\n",
       "      <td>0.00</td>\n",
       "      <td>67.01</td>\n",
       "      <td>Incoming</td>\n",
       "    </tr>\n",
       "    <tr>\n",
       "      <th>4</th>\n",
       "      <td>10005367</td>\n",
       "      <td>2023-02-05</td>\n",
       "      <td>0.00</td>\n",
       "      <td>108.26</td>\n",
       "      <td>Incoming</td>\n",
       "    </tr>\n",
       "  </tbody>\n",
       "</table>\n",
       "</div>"
      ],
      "text/plain": [
       "   Account Number Balance Date  Balance  Transaction Value      Flow\n",
       "0        10005367   2023-01-31   728.25                NaN         -\n",
       "1        10005367   2023-02-02     0.00            1097.60  Incoming\n",
       "2        10005367   2023-02-04     0.00             144.75  Outgoing\n",
       "3        10005367   2023-02-04     0.00              67.01  Incoming\n",
       "4        10005367   2023-02-05     0.00             108.26  Incoming"
      ]
     },
     "execution_count": 121,
     "metadata": {},
     "output_type": "execute_result"
    }
   ],
   "source": [
    "temp.head(5)"
   ]
  },
  {
   "attachments": {},
   "cell_type": "markdown",
   "metadata": {},
   "source": [
    "### Use a running sum to calculate the Balance for each account on each day"
   ]
  },
  {
   "cell_type": "code",
   "execution_count": 125,
   "metadata": {},
   "outputs": [],
   "source": [
    "id = 0\n",
    "bal = 0\n",
    "for i in range(len(temp)):\n",
    "    # same Account Number as previous i\n",
    "    if id == temp.loc[i,'Account Number']:\n",
    "        # add to balance\n",
    "        if temp.loc[i,'Flow'] == 'Incoming':\n",
    "            temp.loc[i,'Balance'] = bal + temp.loc[i,'Transaction Value']\n",
    "        elif temp.loc[i,'Flow'] == 'Outgoing':\n",
    "            temp.loc[i,'Balance'] = bal - temp.loc[i,'Transaction Value']\n",
    "        bal = temp.loc[i,'Balance']\n",
    "    # new Account Number\n",
    "    else:\n",
    "        id = temp.loc[i,'Account Number']\n",
    "        bal = temp.loc[i,'Balance']\n",
    "        "
   ]
  },
  {
   "cell_type": "code",
   "execution_count": 126,
   "metadata": {},
   "outputs": [
    {
     "data": {
      "text/html": [
       "<div>\n",
       "<style scoped>\n",
       "    .dataframe tbody tr th:only-of-type {\n",
       "        vertical-align: middle;\n",
       "    }\n",
       "\n",
       "    .dataframe tbody tr th {\n",
       "        vertical-align: top;\n",
       "    }\n",
       "\n",
       "    .dataframe thead th {\n",
       "        text-align: right;\n",
       "    }\n",
       "</style>\n",
       "<table border=\"1\" class=\"dataframe\">\n",
       "  <thead>\n",
       "    <tr style=\"text-align: right;\">\n",
       "      <th></th>\n",
       "      <th>Account Number</th>\n",
       "      <th>Balance Date</th>\n",
       "      <th>Balance</th>\n",
       "      <th>Transaction Value</th>\n",
       "      <th>Flow</th>\n",
       "    </tr>\n",
       "  </thead>\n",
       "  <tbody>\n",
       "    <tr>\n",
       "      <th>0</th>\n",
       "      <td>10005367</td>\n",
       "      <td>2023-01-31</td>\n",
       "      <td>728.25</td>\n",
       "      <td>NaN</td>\n",
       "      <td>-</td>\n",
       "    </tr>\n",
       "    <tr>\n",
       "      <th>1</th>\n",
       "      <td>10005367</td>\n",
       "      <td>2023-02-02</td>\n",
       "      <td>1825.85</td>\n",
       "      <td>1097.60</td>\n",
       "      <td>Incoming</td>\n",
       "    </tr>\n",
       "    <tr>\n",
       "      <th>2</th>\n",
       "      <td>10005367</td>\n",
       "      <td>2023-02-04</td>\n",
       "      <td>1681.10</td>\n",
       "      <td>144.75</td>\n",
       "      <td>Outgoing</td>\n",
       "    </tr>\n",
       "    <tr>\n",
       "      <th>3</th>\n",
       "      <td>10005367</td>\n",
       "      <td>2023-02-04</td>\n",
       "      <td>1748.11</td>\n",
       "      <td>67.01</td>\n",
       "      <td>Incoming</td>\n",
       "    </tr>\n",
       "    <tr>\n",
       "      <th>4</th>\n",
       "      <td>10005367</td>\n",
       "      <td>2023-02-05</td>\n",
       "      <td>1856.37</td>\n",
       "      <td>108.26</td>\n",
       "      <td>Incoming</td>\n",
       "    </tr>\n",
       "    <tr>\n",
       "      <th>5</th>\n",
       "      <td>10005367</td>\n",
       "      <td>2023-02-08</td>\n",
       "      <td>1921.86</td>\n",
       "      <td>65.49</td>\n",
       "      <td>Incoming</td>\n",
       "    </tr>\n",
       "    <tr>\n",
       "      <th>6</th>\n",
       "      <td>10005367</td>\n",
       "      <td>2023-02-08</td>\n",
       "      <td>980.86</td>\n",
       "      <td>941.00</td>\n",
       "      <td>Outgoing</td>\n",
       "    </tr>\n",
       "    <tr>\n",
       "      <th>7</th>\n",
       "      <td>10005367</td>\n",
       "      <td>2023-02-10</td>\n",
       "      <td>1008.47</td>\n",
       "      <td>27.61</td>\n",
       "      <td>Incoming</td>\n",
       "    </tr>\n",
       "    <tr>\n",
       "      <th>8</th>\n",
       "      <td>10005367</td>\n",
       "      <td>2023-02-11</td>\n",
       "      <td>871.22</td>\n",
       "      <td>137.25</td>\n",
       "      <td>Outgoing</td>\n",
       "    </tr>\n",
       "    <tr>\n",
       "      <th>9</th>\n",
       "      <td>10011977</td>\n",
       "      <td>2023-01-31</td>\n",
       "      <td>676.54</td>\n",
       "      <td>NaN</td>\n",
       "      <td>-</td>\n",
       "    </tr>\n",
       "    <tr>\n",
       "      <th>10</th>\n",
       "      <td>10011977</td>\n",
       "      <td>2023-02-02</td>\n",
       "      <td>727.54</td>\n",
       "      <td>51.00</td>\n",
       "      <td>Incoming</td>\n",
       "    </tr>\n",
       "    <tr>\n",
       "      <th>11</th>\n",
       "      <td>10011977</td>\n",
       "      <td>2023-02-03</td>\n",
       "      <td>606.66</td>\n",
       "      <td>120.88</td>\n",
       "      <td>Outgoing</td>\n",
       "    </tr>\n",
       "  </tbody>\n",
       "</table>\n",
       "</div>"
      ],
      "text/plain": [
       "    Account Number Balance Date  Balance  Transaction Value      Flow\n",
       "0         10005367   2023-01-31   728.25                NaN         -\n",
       "1         10005367   2023-02-02  1825.85            1097.60  Incoming\n",
       "2         10005367   2023-02-04  1681.10             144.75  Outgoing\n",
       "3         10005367   2023-02-04  1748.11              67.01  Incoming\n",
       "4         10005367   2023-02-05  1856.37             108.26  Incoming\n",
       "5         10005367   2023-02-08  1921.86              65.49  Incoming\n",
       "6         10005367   2023-02-08   980.86             941.00  Outgoing\n",
       "7         10005367   2023-02-10  1008.47              27.61  Incoming\n",
       "8         10005367   2023-02-11   871.22             137.25  Outgoing\n",
       "9         10011977   2023-01-31   676.54                NaN         -\n",
       "10        10011977   2023-02-02   727.54              51.00  Incoming\n",
       "11        10011977   2023-02-03   606.66             120.88  Outgoing"
      ]
     },
     "execution_count": 126,
     "metadata": {},
     "output_type": "execute_result"
    }
   ],
   "source": [
    "temp.head(12)"
   ]
  },
  {
   "cell_type": "code",
   "execution_count": 127,
   "metadata": {},
   "outputs": [
    {
     "name": "stdout",
     "output_type": "stream",
     "text": [
      "<class 'pandas.core.frame.DataFrame'>\n",
      "RangeIndex: 20378 entries, 0 to 20377\n",
      "Data columns (total 5 columns):\n",
      " #   Column             Non-Null Count  Dtype         \n",
      "---  ------             --------------  -----         \n",
      " 0   Account Number     20378 non-null  int64         \n",
      " 1   Balance Date       20378 non-null  datetime64[ns]\n",
      " 2   Balance            20378 non-null  float64       \n",
      " 3   Transaction Value  17378 non-null  float64       \n",
      " 4   Flow               20378 non-null  object        \n",
      "dtypes: datetime64[ns](1), float64(2), int64(1), object(1)\n",
      "memory usage: 796.1+ KB\n"
     ]
    }
   ],
   "source": [
    "temp.info()"
   ]
  },
  {
   "cell_type": "code",
   "execution_count": null,
   "metadata": {},
   "outputs": [],
   "source": [
    "temp.to_csv('output.csv' , index=False)"
   ]
  }
 ],
 "metadata": {
  "kernelspec": {
   "display_name": "base",
   "language": "python",
   "name": "python3"
  },
  "language_info": {
   "codemirror_mode": {
    "name": "ipython",
    "version": 3
   },
   "file_extension": ".py",
   "mimetype": "text/x-python",
   "name": "python",
   "nbconvert_exporter": "python",
   "pygments_lexer": "ipython3",
   "version": "3.10.9"
  },
  "orig_nbformat": 4
 },
 "nbformat": 4,
 "nbformat_minor": 2
}

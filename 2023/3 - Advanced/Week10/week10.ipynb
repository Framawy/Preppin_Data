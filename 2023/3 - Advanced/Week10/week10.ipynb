{
 "cells": [
  {
   "cell_type": "code",
   "execution_count": 126,
   "metadata": {},
   "outputs": [],
   "source": [
    "'''\n",
    "Challenge link\n",
    "https://preppindata.blogspot.com/2023/03/2023-week-10-whats-my-balance-on-this.html\n",
    "'''\n",
    "\n",
    "import pandas as pd\n",
    "import numpy as np\n",
    "from datetime import datetime"
   ]
  },
  {
   "cell_type": "code",
   "execution_count": 114,
   "metadata": {},
   "outputs": [
    {
     "name": "stdout",
     "output_type": "stream",
     "text": [
      "<class 'pandas.core.frame.DataFrame'>\n",
      "RangeIndex: 20378 entries, 0 to 20377\n",
      "Data columns (total 4 columns):\n",
      " #   Column             Non-Null Count  Dtype  \n",
      "---  ------             --------------  -----  \n",
      " 0   Account Number     20378 non-null  int64  \n",
      " 1   Balance Date       20378 non-null  object \n",
      " 2   Transaction Value  17378 non-null  float64\n",
      " 3   Balance            20378 non-null  float64\n",
      "dtypes: float64(2), int64(1), object(1)\n",
      "memory usage: 636.9+ KB\n"
     ]
    }
   ],
   "source": [
    "acc_stat = pd.read_csv(\"Account Statements.csv\")\n",
    "acc_stat.info()"
   ]
  },
  {
   "cell_type": "code",
   "execution_count": 115,
   "metadata": {},
   "outputs": [
    {
     "name": "stdout",
     "output_type": "stream",
     "text": [
      "<class 'pandas.core.frame.DataFrame'>\n",
      "RangeIndex: 20378 entries, 0 to 20377\n",
      "Data columns (total 4 columns):\n",
      " #   Column             Non-Null Count  Dtype         \n",
      "---  ------             --------------  -----         \n",
      " 0   Account Number     20378 non-null  int64         \n",
      " 1   Balance Date       20378 non-null  datetime64[ns]\n",
      " 2   Transaction Value  17378 non-null  float64       \n",
      " 3   Balance            20378 non-null  float64       \n",
      "dtypes: datetime64[ns](1), float64(2), int64(1)\n",
      "memory usage: 636.9 KB\n"
     ]
    }
   ],
   "source": [
    "# acc_stat['Balance Date'] = acc_stat['Balance Date'].astype('datetime64[ns]', format=\"%d/%m/%y\")\n",
    "acc_stat['Balance Date'] = pd.to_datetime(acc_stat['Balance Date'], dayfirst=True)\n",
    "acc_stat.info()"
   ]
  },
  {
   "cell_type": "code",
   "execution_count": 116,
   "metadata": {},
   "outputs": [
    {
     "data": {
      "text/html": [
       "<div>\n",
       "<style scoped>\n",
       "    .dataframe tbody tr th:only-of-type {\n",
       "        vertical-align: middle;\n",
       "    }\n",
       "\n",
       "    .dataframe tbody tr th {\n",
       "        vertical-align: top;\n",
       "    }\n",
       "\n",
       "    .dataframe thead th {\n",
       "        text-align: right;\n",
       "    }\n",
       "</style>\n",
       "<table border=\"1\" class=\"dataframe\">\n",
       "  <thead>\n",
       "    <tr style=\"text-align: right;\">\n",
       "      <th></th>\n",
       "      <th>Account Number</th>\n",
       "      <th>Balance Date</th>\n",
       "      <th>Transaction Value</th>\n",
       "      <th>Balance</th>\n",
       "    </tr>\n",
       "  </thead>\n",
       "  <tbody>\n",
       "    <tr>\n",
       "      <th>0</th>\n",
       "      <td>44873253</td>\n",
       "      <td>2023-02-07</td>\n",
       "      <td>-113.43</td>\n",
       "      <td>522.41</td>\n",
       "    </tr>\n",
       "    <tr>\n",
       "      <th>1</th>\n",
       "      <td>17938672</td>\n",
       "      <td>2023-02-01</td>\n",
       "      <td>102.95</td>\n",
       "      <td>1007.94</td>\n",
       "    </tr>\n",
       "    <tr>\n",
       "      <th>2</th>\n",
       "      <td>29358670</td>\n",
       "      <td>2023-02-13</td>\n",
       "      <td>-56.85</td>\n",
       "      <td>-39.49</td>\n",
       "    </tr>\n",
       "    <tr>\n",
       "      <th>3</th>\n",
       "      <td>32803222</td>\n",
       "      <td>2023-02-13</td>\n",
       "      <td>96.06</td>\n",
       "      <td>1059.24</td>\n",
       "    </tr>\n",
       "    <tr>\n",
       "      <th>4</th>\n",
       "      <td>83975923</td>\n",
       "      <td>2023-01-31</td>\n",
       "      <td>NaN</td>\n",
       "      <td>837.45</td>\n",
       "    </tr>\n",
       "  </tbody>\n",
       "</table>\n",
       "</div>"
      ],
      "text/plain": [
       "   Account Number Balance Date  Transaction Value  Balance\n",
       "0        44873253   2023-02-07            -113.43   522.41\n",
       "1        17938672   2023-02-01             102.95  1007.94\n",
       "2        29358670   2023-02-13             -56.85   -39.49\n",
       "3        32803222   2023-02-13              96.06  1059.24\n",
       "4        83975923   2023-01-31                NaN   837.45"
      ]
     },
     "execution_count": 116,
     "metadata": {},
     "output_type": "execute_result"
    }
   ],
   "source": [
    "acc_stat.head(5)"
   ]
  },
  {
   "attachments": {},
   "cell_type": "markdown",
   "metadata": {},
   "source": [
    "### Aggregate the data so we have a single balance for each day already in the dataset, for each account"
   ]
  },
  {
   "cell_type": "code",
   "execution_count": 117,
   "metadata": {},
   "outputs": [
    {
     "name": "stdout",
     "output_type": "stream",
     "text": [
      "<class 'pandas.core.frame.DataFrame'>\n",
      "RangeIndex: 17221 entries, 0 to 17220\n",
      "Data columns (total 4 columns):\n",
      " #   Column             Non-Null Count  Dtype         \n",
      "---  ------             --------------  -----         \n",
      " 0   Account Number     17221 non-null  int64         \n",
      " 1   Balance Date       17221 non-null  datetime64[ns]\n",
      " 2   Transaction Value  17221 non-null  float64       \n",
      " 3   Balance            17221 non-null  float64       \n",
      "dtypes: datetime64[ns](1), float64(2), int64(1)\n",
      "memory usage: 538.3 KB\n"
     ]
    }
   ],
   "source": [
    "temp = acc_stat.groupby(['Account Number' , 'Balance Date'])[['Transaction Value', 'Balance']].sum().reset_index()\n",
    "temp.info()"
   ]
  },
  {
   "cell_type": "code",
   "execution_count": 118,
   "metadata": {},
   "outputs": [
    {
     "data": {
      "text/html": [
       "<div>\n",
       "<style scoped>\n",
       "    .dataframe tbody tr th:only-of-type {\n",
       "        vertical-align: middle;\n",
       "    }\n",
       "\n",
       "    .dataframe tbody tr th {\n",
       "        vertical-align: top;\n",
       "    }\n",
       "\n",
       "    .dataframe thead th {\n",
       "        text-align: right;\n",
       "    }\n",
       "</style>\n",
       "<table border=\"1\" class=\"dataframe\">\n",
       "  <thead>\n",
       "    <tr style=\"text-align: right;\">\n",
       "      <th></th>\n",
       "      <th>Account Number</th>\n",
       "      <th>Balance Date</th>\n",
       "      <th>Transaction Value</th>\n",
       "      <th>Balance</th>\n",
       "    </tr>\n",
       "  </thead>\n",
       "  <tbody>\n",
       "    <tr>\n",
       "      <th>0</th>\n",
       "      <td>10005367</td>\n",
       "      <td>2023-01-31</td>\n",
       "      <td>0.00</td>\n",
       "      <td>728.25</td>\n",
       "    </tr>\n",
       "    <tr>\n",
       "      <th>1</th>\n",
       "      <td>10005367</td>\n",
       "      <td>2023-02-02</td>\n",
       "      <td>-1097.60</td>\n",
       "      <td>-369.35</td>\n",
       "    </tr>\n",
       "    <tr>\n",
       "      <th>2</th>\n",
       "      <td>10005367</td>\n",
       "      <td>2023-02-04</td>\n",
       "      <td>77.74</td>\n",
       "      <td>-516.21</td>\n",
       "    </tr>\n",
       "    <tr>\n",
       "      <th>3</th>\n",
       "      <td>10005367</td>\n",
       "      <td>2023-02-05</td>\n",
       "      <td>-108.26</td>\n",
       "      <td>-399.87</td>\n",
       "    </tr>\n",
       "    <tr>\n",
       "      <th>4</th>\n",
       "      <td>10005367</td>\n",
       "      <td>2023-02-08</td>\n",
       "      <td>875.51</td>\n",
       "      <td>1016.77</td>\n",
       "    </tr>\n",
       "  </tbody>\n",
       "</table>\n",
       "</div>"
      ],
      "text/plain": [
       "   Account Number Balance Date  Transaction Value  Balance\n",
       "0        10005367   2023-01-31               0.00   728.25\n",
       "1        10005367   2023-02-02           -1097.60  -369.35\n",
       "2        10005367   2023-02-04              77.74  -516.21\n",
       "3        10005367   2023-02-05            -108.26  -399.87\n",
       "4        10005367   2023-02-08             875.51  1016.77"
      ]
     },
     "execution_count": 118,
     "metadata": {},
     "output_type": "execute_result"
    }
   ],
   "source": [
    "temp.head(5)"
   ]
  },
  {
   "attachments": {},
   "cell_type": "markdown",
   "metadata": {},
   "source": [
    "### Scaffold the data so each account has a row between 31st Jan and 14th Feb\n",
    "### Make sure new rows have a null in the Transaction Value field"
   ]
  },
  {
   "cell_type": "code",
   "execution_count": 119,
   "metadata": {},
   "outputs": [
    {
     "name": "stderr",
     "output_type": "stream",
     "text": [
      "C:\\Users\\mfram\\AppData\\Local\\Temp\\ipykernel_13564\\4065563634.py:2: UserWarning: Parsing dates in DD/MM/YYYY format when dayfirst=False (the default) was specified. This may lead to inconsistently parsed dates! Specify a format to ensure consistent parsing.\n",
      "  date_df['Balance Date'] = pd.date_range(start='31/01/2023', end='14/02/2023')\n"
     ]
    },
    {
     "data": {
      "text/html": [
       "<div>\n",
       "<style scoped>\n",
       "    .dataframe tbody tr th:only-of-type {\n",
       "        vertical-align: middle;\n",
       "    }\n",
       "\n",
       "    .dataframe tbody tr th {\n",
       "        vertical-align: top;\n",
       "    }\n",
       "\n",
       "    .dataframe thead th {\n",
       "        text-align: right;\n",
       "    }\n",
       "</style>\n",
       "<table border=\"1\" class=\"dataframe\">\n",
       "  <thead>\n",
       "    <tr style=\"text-align: right;\">\n",
       "      <th></th>\n",
       "      <th>Balance Date</th>\n",
       "    </tr>\n",
       "  </thead>\n",
       "  <tbody>\n",
       "    <tr>\n",
       "      <th>0</th>\n",
       "      <td>2023-01-31</td>\n",
       "    </tr>\n",
       "    <tr>\n",
       "      <th>1</th>\n",
       "      <td>2023-02-01</td>\n",
       "    </tr>\n",
       "    <tr>\n",
       "      <th>2</th>\n",
       "      <td>2023-02-02</td>\n",
       "    </tr>\n",
       "    <tr>\n",
       "      <th>3</th>\n",
       "      <td>2023-02-03</td>\n",
       "    </tr>\n",
       "    <tr>\n",
       "      <th>4</th>\n",
       "      <td>2023-02-04</td>\n",
       "    </tr>\n",
       "  </tbody>\n",
       "</table>\n",
       "</div>"
      ],
      "text/plain": [
       "  Balance Date\n",
       "0   2023-01-31\n",
       "1   2023-02-01\n",
       "2   2023-02-02\n",
       "3   2023-02-03\n",
       "4   2023-02-04"
      ]
     },
     "execution_count": 119,
     "metadata": {},
     "output_type": "execute_result"
    }
   ],
   "source": [
    "date_df = pd.DataFrame(columns=['Balance Date'])\n",
    "date_df['Balance Date'] = pd.date_range(start='31/01/2023', end='14/02/2023')\n",
    "date_df.head(5)"
   ]
  },
  {
   "cell_type": "code",
   "execution_count": 120,
   "metadata": {},
   "outputs": [
    {
     "name": "stdout",
     "output_type": "stream",
     "text": [
      "<class 'pandas.core.frame.DataFrame'>\n",
      "Int64Index: 3000 entries, 0 to 17211\n",
      "Data columns (total 1 columns):\n",
      " #   Column          Non-Null Count  Dtype\n",
      "---  ------          --------------  -----\n",
      " 0   Account Number  3000 non-null   int64\n",
      "dtypes: int64(1)\n",
      "memory usage: 46.9 KB\n"
     ]
    }
   ],
   "source": [
    "acc_num = pd.DataFrame(temp['Account Number'])\n",
    "acc_num.drop_duplicates(inplace=True)\n",
    "acc_num.info()"
   ]
  },
  {
   "cell_type": "code",
   "execution_count": 121,
   "metadata": {},
   "outputs": [
    {
     "name": "stdout",
     "output_type": "stream",
     "text": [
      "<class 'pandas.core.frame.DataFrame'>\n",
      "Int64Index: 45000 entries, 0 to 44999\n",
      "Data columns (total 2 columns):\n",
      " #   Column          Non-Null Count  Dtype         \n",
      "---  ------          --------------  -----         \n",
      " 0   Account Number  45000 non-null  int64         \n",
      " 1   Balance Date    45000 non-null  datetime64[ns]\n",
      "dtypes: datetime64[ns](1), int64(1)\n",
      "memory usage: 1.0 MB\n"
     ]
    }
   ],
   "source": [
    "date_df = acc_num.merge(date_df,how='cross')\n",
    "date_df.info()"
   ]
  },
  {
   "cell_type": "code",
   "execution_count": 122,
   "metadata": {},
   "outputs": [
    {
     "data": {
      "text/html": [
       "<div>\n",
       "<style scoped>\n",
       "    .dataframe tbody tr th:only-of-type {\n",
       "        vertical-align: middle;\n",
       "    }\n",
       "\n",
       "    .dataframe tbody tr th {\n",
       "        vertical-align: top;\n",
       "    }\n",
       "\n",
       "    .dataframe thead th {\n",
       "        text-align: right;\n",
       "    }\n",
       "</style>\n",
       "<table border=\"1\" class=\"dataframe\">\n",
       "  <thead>\n",
       "    <tr style=\"text-align: right;\">\n",
       "      <th></th>\n",
       "      <th>Account Number</th>\n",
       "      <th>Balance Date</th>\n",
       "      <th>Transaction Value</th>\n",
       "      <th>Balance</th>\n",
       "    </tr>\n",
       "  </thead>\n",
       "  <tbody>\n",
       "    <tr>\n",
       "      <th>0</th>\n",
       "      <td>10005367</td>\n",
       "      <td>2023-01-31</td>\n",
       "      <td>0.00</td>\n",
       "      <td>728.25</td>\n",
       "    </tr>\n",
       "    <tr>\n",
       "      <th>1</th>\n",
       "      <td>10005367</td>\n",
       "      <td>2023-02-01</td>\n",
       "      <td>NaN</td>\n",
       "      <td>NaN</td>\n",
       "    </tr>\n",
       "    <tr>\n",
       "      <th>2</th>\n",
       "      <td>10005367</td>\n",
       "      <td>2023-02-02</td>\n",
       "      <td>-1097.60</td>\n",
       "      <td>-369.35</td>\n",
       "    </tr>\n",
       "    <tr>\n",
       "      <th>3</th>\n",
       "      <td>10005367</td>\n",
       "      <td>2023-02-03</td>\n",
       "      <td>NaN</td>\n",
       "      <td>NaN</td>\n",
       "    </tr>\n",
       "    <tr>\n",
       "      <th>4</th>\n",
       "      <td>10005367</td>\n",
       "      <td>2023-02-04</td>\n",
       "      <td>77.74</td>\n",
       "      <td>-516.21</td>\n",
       "    </tr>\n",
       "  </tbody>\n",
       "</table>\n",
       "</div>"
      ],
      "text/plain": [
       "   Account Number Balance Date  Transaction Value  Balance\n",
       "0        10005367   2023-01-31               0.00   728.25\n",
       "1        10005367   2023-02-01                NaN      NaN\n",
       "2        10005367   2023-02-02           -1097.60  -369.35\n",
       "3        10005367   2023-02-03                NaN      NaN\n",
       "4        10005367   2023-02-04              77.74  -516.21"
      ]
     },
     "execution_count": 122,
     "metadata": {},
     "output_type": "execute_result"
    }
   ],
   "source": [
    "acc_df = temp.merge(date_df,how='right', on=['Account Number','Balance Date'])\n",
    "acc_df.head()"
   ]
  },
  {
   "cell_type": "code",
   "execution_count": 123,
   "metadata": {},
   "outputs": [],
   "source": [
    "id = 0\n",
    "bal = 0\n",
    "for i in range(len(acc_df)):\n",
    "    # Same Account Number as previous i\n",
    "    if id == acc_df.loc[i,'Account Number']:\n",
    "        if np.isnan(acc_df.loc[i,'Balance']) == False:\n",
    "            bal = acc_df.loc[i,'Balance']\n",
    "        elif np.isnan(acc_df.loc[i,'Balance']) == True:\n",
    "            acc_df.loc[i,'Balance'] = bal\n",
    "        if np.isnan(acc_df.loc[i,'Transaction Value']) == True:\n",
    "            acc_df.loc[i,'Transaction Value'] = 0\n",
    "    else:\n",
    "        id = acc_df.loc[i,'Account Number']\n",
    "        bal = acc_df.loc[i,'Balance']"
   ]
  },
  {
   "cell_type": "code",
   "execution_count": 124,
   "metadata": {},
   "outputs": [
    {
     "data": {
      "text/html": [
       "<div>\n",
       "<style scoped>\n",
       "    .dataframe tbody tr th:only-of-type {\n",
       "        vertical-align: middle;\n",
       "    }\n",
       "\n",
       "    .dataframe tbody tr th {\n",
       "        vertical-align: top;\n",
       "    }\n",
       "\n",
       "    .dataframe thead th {\n",
       "        text-align: right;\n",
       "    }\n",
       "</style>\n",
       "<table border=\"1\" class=\"dataframe\">\n",
       "  <thead>\n",
       "    <tr style=\"text-align: right;\">\n",
       "      <th></th>\n",
       "      <th>Account Number</th>\n",
       "      <th>Balance Date</th>\n",
       "      <th>Transaction Value</th>\n",
       "      <th>Balance</th>\n",
       "    </tr>\n",
       "  </thead>\n",
       "  <tbody>\n",
       "    <tr>\n",
       "      <th>0</th>\n",
       "      <td>10005367</td>\n",
       "      <td>2023-01-31</td>\n",
       "      <td>0.00</td>\n",
       "      <td>728.25</td>\n",
       "    </tr>\n",
       "    <tr>\n",
       "      <th>1</th>\n",
       "      <td>10005367</td>\n",
       "      <td>2023-02-01</td>\n",
       "      <td>0.00</td>\n",
       "      <td>728.25</td>\n",
       "    </tr>\n",
       "    <tr>\n",
       "      <th>2</th>\n",
       "      <td>10005367</td>\n",
       "      <td>2023-02-02</td>\n",
       "      <td>-1097.60</td>\n",
       "      <td>-369.35</td>\n",
       "    </tr>\n",
       "    <tr>\n",
       "      <th>3</th>\n",
       "      <td>10005367</td>\n",
       "      <td>2023-02-03</td>\n",
       "      <td>0.00</td>\n",
       "      <td>-369.35</td>\n",
       "    </tr>\n",
       "    <tr>\n",
       "      <th>4</th>\n",
       "      <td>10005367</td>\n",
       "      <td>2023-02-04</td>\n",
       "      <td>77.74</td>\n",
       "      <td>-516.21</td>\n",
       "    </tr>\n",
       "    <tr>\n",
       "      <th>5</th>\n",
       "      <td>10005367</td>\n",
       "      <td>2023-02-05</td>\n",
       "      <td>-108.26</td>\n",
       "      <td>-399.87</td>\n",
       "    </tr>\n",
       "    <tr>\n",
       "      <th>6</th>\n",
       "      <td>10005367</td>\n",
       "      <td>2023-02-06</td>\n",
       "      <td>0.00</td>\n",
       "      <td>-399.87</td>\n",
       "    </tr>\n",
       "    <tr>\n",
       "      <th>7</th>\n",
       "      <td>10005367</td>\n",
       "      <td>2023-02-07</td>\n",
       "      <td>0.00</td>\n",
       "      <td>-399.87</td>\n",
       "    </tr>\n",
       "    <tr>\n",
       "      <th>8</th>\n",
       "      <td>10005367</td>\n",
       "      <td>2023-02-08</td>\n",
       "      <td>875.51</td>\n",
       "      <td>1016.77</td>\n",
       "    </tr>\n",
       "    <tr>\n",
       "      <th>9</th>\n",
       "      <td>10005367</td>\n",
       "      <td>2023-02-09</td>\n",
       "      <td>0.00</td>\n",
       "      <td>1016.77</td>\n",
       "    </tr>\n",
       "  </tbody>\n",
       "</table>\n",
       "</div>"
      ],
      "text/plain": [
       "   Account Number Balance Date  Transaction Value  Balance\n",
       "0        10005367   2023-01-31               0.00   728.25\n",
       "1        10005367   2023-02-01               0.00   728.25\n",
       "2        10005367   2023-02-02           -1097.60  -369.35\n",
       "3        10005367   2023-02-03               0.00  -369.35\n",
       "4        10005367   2023-02-04              77.74  -516.21\n",
       "5        10005367   2023-02-05            -108.26  -399.87\n",
       "6        10005367   2023-02-06               0.00  -399.87\n",
       "7        10005367   2023-02-07               0.00  -399.87\n",
       "8        10005367   2023-02-08             875.51  1016.77\n",
       "9        10005367   2023-02-09               0.00  1016.77"
      ]
     },
     "execution_count": 124,
     "metadata": {},
     "output_type": "execute_result"
    }
   ],
   "source": [
    "acc_df.head(10)"
   ]
  },
  {
   "attachments": {},
   "cell_type": "markdown",
   "metadata": {},
   "source": [
    "### Create a parameter so a particular date can be selected"
   ]
  },
  {
   "cell_type": "code",
   "execution_count": 131,
   "metadata": {},
   "outputs": [
    {
     "name": "stdout",
     "output_type": "stream",
     "text": [
      "2023-02-01 00:00:00\n"
     ]
    }
   ],
   "source": [
    "# Date same as given as example in challenge\n",
    "d = 1\n",
    "m = 2\n",
    "y = 23\n",
    "date = datetime.strptime(f'{d}-{m}-{y}', f'%d-%m-%y')\n",
    "print(date)\n"
   ]
  },
  {
   "cell_type": "code",
   "execution_count": 132,
   "metadata": {},
   "outputs": [
    {
     "name": "stdout",
     "output_type": "stream",
     "text": [
      "<class 'pandas.core.frame.DataFrame'>\n",
      "Int64Index: 3000 entries, 1 to 44986\n",
      "Data columns (total 4 columns):\n",
      " #   Column             Non-Null Count  Dtype         \n",
      "---  ------             --------------  -----         \n",
      " 0   Account Number     3000 non-null   int64         \n",
      " 1   Balance Date       3000 non-null   datetime64[ns]\n",
      " 2   Transaction Value  3000 non-null   float64       \n",
      " 3   Balance            3000 non-null   float64       \n",
      "dtypes: datetime64[ns](1), float64(2), int64(1)\n",
      "memory usage: 117.2 KB\n"
     ]
    }
   ],
   "source": [
    "temp = acc_df.loc[acc_df['Balance Date'] == date]\n",
    "temp.info()"
   ]
  }
 ],
 "metadata": {
  "kernelspec": {
   "display_name": "base",
   "language": "python",
   "name": "python3"
  },
  "language_info": {
   "codemirror_mode": {
    "name": "ipython",
    "version": 3
   },
   "file_extension": ".py",
   "mimetype": "text/x-python",
   "name": "python",
   "nbconvert_exporter": "python",
   "pygments_lexer": "ipython3",
   "version": "3.10.9"
  },
  "orig_nbformat": 4
 },
 "nbformat": 4,
 "nbformat_minor": 2
}

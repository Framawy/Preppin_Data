{
 "cells": [
  {
   "cell_type": "code",
   "execution_count": 2,
   "metadata": {},
   "outputs": [],
   "source": [
    "'''\n",
    "Challenge link\n",
    "https://preppindata.blogspot.com/2023/02/2023-week-7-flagging-fraudulent.html\n",
    "'''\n",
    "\n",
    "import pandas as pd"
   ]
  },
  {
   "cell_type": "code",
   "execution_count": 3,
   "metadata": {},
   "outputs": [],
   "source": [
    "trans_path = pd.read_csv(\"Transaction Path.csv\")\n",
    "trans_details = pd.read_csv(\"Transaction Detail.csv\")\n",
    "acc_holders = pd.read_csv(\"Account Holders.csv\")\n",
    "acc_info = pd.read_csv('Account Information.csv')\n"
   ]
  },
  {
   "cell_type": "code",
   "execution_count": 4,
   "metadata": {},
   "outputs": [
    {
     "name": "stdout",
     "output_type": "stream",
     "text": [
      "<class 'pandas.core.frame.DataFrame'>\n",
      "RangeIndex: 8781 entries, 0 to 8780\n",
      "Data columns (total 3 columns):\n",
      " #   Column          Non-Null Count  Dtype\n",
      "---  ------          --------------  -----\n",
      " 0   Transaction ID  8781 non-null   int64\n",
      " 1   Account_To      8781 non-null   int64\n",
      " 2   Account_From    8781 non-null   int64\n",
      "dtypes: int64(3)\n",
      "memory usage: 205.9 KB\n",
      "<class 'pandas.core.frame.DataFrame'>\n",
      "RangeIndex: 8781 entries, 0 to 8780\n",
      "Data columns (total 4 columns):\n",
      " #   Column            Non-Null Count  Dtype  \n",
      "---  ------            --------------  -----  \n",
      " 0   Transaction ID    8781 non-null   int64  \n",
      " 1   Transaction Date  8781 non-null   object \n",
      " 2   Value             8781 non-null   float64\n",
      " 3   Cancelled?        8781 non-null   object \n",
      "dtypes: float64(1), int64(1), object(2)\n",
      "memory usage: 274.5+ KB\n"
     ]
    }
   ],
   "source": [
    "trans_path.info()\n",
    "trans_details.info()"
   ]
  },
  {
   "cell_type": "code",
   "execution_count": 5,
   "metadata": {},
   "outputs": [
    {
     "name": "stdout",
     "output_type": "stream",
     "text": [
      "<class 'pandas.core.frame.DataFrame'>\n",
      "RangeIndex: 3072 entries, 0 to 3071\n",
      "Data columns (total 5 columns):\n",
      " #   Column                 Non-Null Count  Dtype \n",
      "---  ------                 --------------  ----- \n",
      " 0   Account Holder ID      3072 non-null   int64 \n",
      " 1   Name                   3072 non-null   object\n",
      " 2   Date of Birth          3072 non-null   object\n",
      " 3   Contact Number         3072 non-null   int64 \n",
      " 4   First Line of Address  3072 non-null   object\n",
      "dtypes: int64(2), object(3)\n",
      "memory usage: 120.1+ KB\n",
      "<class 'pandas.core.frame.DataFrame'>\n",
      "RangeIndex: 3000 entries, 0 to 2999\n",
      "Data columns (total 5 columns):\n",
      " #   Column             Non-Null Count  Dtype  \n",
      "---  ------             --------------  -----  \n",
      " 0   Account Number     3000 non-null   int64  \n",
      " 1   Account Type       3000 non-null   object \n",
      " 2   Account Holder ID  3000 non-null   object \n",
      " 3   Balance Date       3000 non-null   object \n",
      " 4   Balance            3000 non-null   float64\n",
      "dtypes: float64(1), int64(1), object(3)\n",
      "memory usage: 117.3+ KB\n"
     ]
    }
   ],
   "source": [
    "acc_holders.info()\n",
    "acc_info.info()"
   ]
  },
  {
   "attachments": {},
   "cell_type": "markdown",
   "metadata": {},
   "source": [
    "### For the Transaction Path table Make sure field naming convention matches the other tables"
   ]
  },
  {
   "cell_type": "code",
   "execution_count": 6,
   "metadata": {},
   "outputs": [
    {
     "name": "stdout",
     "output_type": "stream",
     "text": [
      "<class 'pandas.core.frame.DataFrame'>\n",
      "RangeIndex: 8781 entries, 0 to 8780\n",
      "Data columns (total 3 columns):\n",
      " #   Column          Non-Null Count  Dtype\n",
      "---  ------          --------------  -----\n",
      " 0   Transaction ID  8781 non-null   int64\n",
      " 1   Account To      8781 non-null   int64\n",
      " 2   Account From    8781 non-null   int64\n",
      "dtypes: int64(3)\n",
      "memory usage: 205.9 KB\n"
     ]
    }
   ],
   "source": [
    "trans_path.rename(columns={'Account_To': 'Account To', 'Account_From' : 'Account From' }, inplace = True)\n",
    "trans_path.info()\n"
   ]
  },
  {
   "attachments": {},
   "cell_type": "markdown",
   "metadata": {},
   "source": [
    "### For the Account Information table:\n",
    "    * Make sure there are no null values in the Account Holder ID\n",
    "    * Ensure there is one row per Account Holder ID\n",
    "        * Joint accounts will have 2 Account Holders, we want a row for each of them"
   ]
  },
  {
   "cell_type": "code",
   "execution_count": 7,
   "metadata": {},
   "outputs": [
    {
     "data": {
      "text/html": [
       "<div>\n",
       "<style scoped>\n",
       "    .dataframe tbody tr th:only-of-type {\n",
       "        vertical-align: middle;\n",
       "    }\n",
       "\n",
       "    .dataframe tbody tr th {\n",
       "        vertical-align: top;\n",
       "    }\n",
       "\n",
       "    .dataframe thead th {\n",
       "        text-align: right;\n",
       "    }\n",
       "</style>\n",
       "<table border=\"1\" class=\"dataframe\">\n",
       "  <thead>\n",
       "    <tr style=\"text-align: right;\">\n",
       "      <th></th>\n",
       "      <th>Account Number</th>\n",
       "      <th>Account Holder ID</th>\n",
       "      <th>Balance Date</th>\n",
       "      <th>Balance</th>\n",
       "    </tr>\n",
       "    <tr>\n",
       "      <th>Account Type</th>\n",
       "      <th></th>\n",
       "      <th></th>\n",
       "      <th></th>\n",
       "      <th></th>\n",
       "    </tr>\n",
       "  </thead>\n",
       "  <tbody>\n",
       "    <tr>\n",
       "      <th>Basic</th>\n",
       "      <td>1199</td>\n",
       "      <td>1199</td>\n",
       "      <td>1199</td>\n",
       "      <td>1199</td>\n",
       "    </tr>\n",
       "    <tr>\n",
       "      <th>Gold</th>\n",
       "      <td>1274</td>\n",
       "      <td>1274</td>\n",
       "      <td>1274</td>\n",
       "      <td>1274</td>\n",
       "    </tr>\n",
       "    <tr>\n",
       "      <th>Joint</th>\n",
       "      <td>72</td>\n",
       "      <td>72</td>\n",
       "      <td>72</td>\n",
       "      <td>72</td>\n",
       "    </tr>\n",
       "    <tr>\n",
       "      <th>Platinum</th>\n",
       "      <td>455</td>\n",
       "      <td>455</td>\n",
       "      <td>455</td>\n",
       "      <td>455</td>\n",
       "    </tr>\n",
       "  </tbody>\n",
       "</table>\n",
       "</div>"
      ],
      "text/plain": [
       "              Account Number  Account Holder ID  Balance Date  Balance\n",
       "Account Type                                                          \n",
       "Basic                   1199               1199          1199     1199\n",
       "Gold                    1274               1274          1274     1274\n",
       "Joint                     72                 72            72       72\n",
       "Platinum                 455                455           455      455"
      ]
     },
     "execution_count": 7,
     "metadata": {},
     "output_type": "execute_result"
    }
   ],
   "source": [
    "acc_info.groupby('Account Type').count()"
   ]
  },
  {
   "cell_type": "code",
   "execution_count": 8,
   "metadata": {},
   "outputs": [
    {
     "data": {
      "text/html": [
       "<div>\n",
       "<style scoped>\n",
       "    .dataframe tbody tr th:only-of-type {\n",
       "        vertical-align: middle;\n",
       "    }\n",
       "\n",
       "    .dataframe tbody tr th {\n",
       "        vertical-align: top;\n",
       "    }\n",
       "\n",
       "    .dataframe thead th {\n",
       "        text-align: right;\n",
       "    }\n",
       "</style>\n",
       "<table border=\"1\" class=\"dataframe\">\n",
       "  <thead>\n",
       "    <tr style=\"text-align: right;\">\n",
       "      <th></th>\n",
       "      <th>Account Number</th>\n",
       "      <th>Account Holder ID</th>\n",
       "      <th>Balance Date</th>\n",
       "      <th>Balance</th>\n",
       "    </tr>\n",
       "    <tr>\n",
       "      <th>Account Type</th>\n",
       "      <th></th>\n",
       "      <th></th>\n",
       "      <th></th>\n",
       "      <th></th>\n",
       "    </tr>\n",
       "  </thead>\n",
       "  <tbody>\n",
       "    <tr>\n",
       "      <th>Basic</th>\n",
       "      <td>1199</td>\n",
       "      <td>1199</td>\n",
       "      <td>1199</td>\n",
       "      <td>1199</td>\n",
       "    </tr>\n",
       "    <tr>\n",
       "      <th>Gold</th>\n",
       "      <td>1274</td>\n",
       "      <td>1274</td>\n",
       "      <td>1274</td>\n",
       "      <td>1274</td>\n",
       "    </tr>\n",
       "    <tr>\n",
       "      <th>Joint</th>\n",
       "      <td>144</td>\n",
       "      <td>144</td>\n",
       "      <td>144</td>\n",
       "      <td>144</td>\n",
       "    </tr>\n",
       "    <tr>\n",
       "      <th>Platinum</th>\n",
       "      <td>455</td>\n",
       "      <td>455</td>\n",
       "      <td>455</td>\n",
       "      <td>455</td>\n",
       "    </tr>\n",
       "  </tbody>\n",
       "</table>\n",
       "</div>"
      ],
      "text/plain": [
       "              Account Number  Account Holder ID  Balance Date  Balance\n",
       "Account Type                                                          \n",
       "Basic                   1199               1199          1199     1199\n",
       "Gold                    1274               1274          1274     1274\n",
       "Joint                    144                144           144      144\n",
       "Platinum                 455                455           455      455"
      ]
     },
     "execution_count": 8,
     "metadata": {},
     "output_type": "execute_result"
    }
   ],
   "source": [
    "acc_info.head(5)\n",
    "l = len(acc_info)\n",
    "for i in range(l):\n",
    "    if acc_info.loc[i,'Account Type'] == 'Joint':\n",
    "        x = acc_info.loc[i, 'Account Holder ID']\n",
    "        x = x.split(', ')\n",
    "        acc_info.loc[i, 'Account Holder ID'] = x[0]\n",
    "        y = acc_info.loc[i].tolist()\n",
    "        y[2] = x[1]\n",
    "        acc_info.loc[len(acc_info)] = y\n",
    "acc_info.groupby('Account Type').count()"
   ]
  },
  {
   "cell_type": "code",
   "execution_count": 9,
   "metadata": {},
   "outputs": [
    {
     "data": {
      "text/plain": [
       "(Account Number         10034341\n",
       " Account Type              Joint\n",
       " Account Holder ID      89920386\n",
       " Balance Date         2023-01-31\n",
       " Balance                  390.39\n",
       " Name: 4, dtype: object,\n",
       " Account Number         10034341\n",
       " Account Type              Joint\n",
       " Account Holder ID      97325900\n",
       " Balance Date         2023-01-31\n",
       " Balance                  390.39\n",
       " Name: 3000, dtype: object)"
      ]
     },
     "execution_count": 9,
     "metadata": {},
     "output_type": "execute_result"
    }
   ],
   "source": [
    "temp = acc_info.loc[acc_info['Account Type'] == 'Joint']\n",
    "temp.iloc[0] , temp.iloc[72]"
   ]
  },
  {
   "cell_type": "code",
   "execution_count": 10,
   "metadata": {},
   "outputs": [
    {
     "name": "stdout",
     "output_type": "stream",
     "text": [
      "<class 'pandas.core.frame.DataFrame'>\n",
      "Int64Index: 3072 entries, 0 to 3071\n",
      "Data columns (total 5 columns):\n",
      " #   Column             Non-Null Count  Dtype  \n",
      "---  ------             --------------  -----  \n",
      " 0   Account Number     3072 non-null   int64  \n",
      " 1   Account Type       3072 non-null   object \n",
      " 2   Account Holder ID  3072 non-null   object \n",
      " 3   Balance Date       3072 non-null   object \n",
      " 4   Balance            3072 non-null   float64\n",
      "dtypes: float64(1), int64(1), object(3)\n",
      "memory usage: 144.0+ KB\n"
     ]
    }
   ],
   "source": [
    "acc_info.info()"
   ]
  },
  {
   "attachments": {},
   "cell_type": "markdown",
   "metadata": {},
   "source": [
    "### For the Account Holders table:\n",
    "        Make sure the phone numbers start with 07"
   ]
  },
  {
   "cell_type": "code",
   "execution_count": 11,
   "metadata": {},
   "outputs": [
    {
     "data": {
      "text/html": [
       "<div>\n",
       "<style scoped>\n",
       "    .dataframe tbody tr th:only-of-type {\n",
       "        vertical-align: middle;\n",
       "    }\n",
       "\n",
       "    .dataframe tbody tr th {\n",
       "        vertical-align: top;\n",
       "    }\n",
       "\n",
       "    .dataframe thead th {\n",
       "        text-align: right;\n",
       "    }\n",
       "</style>\n",
       "<table border=\"1\" class=\"dataframe\">\n",
       "  <thead>\n",
       "    <tr style=\"text-align: right;\">\n",
       "      <th></th>\n",
       "      <th>Account Holder ID</th>\n",
       "      <th>Name</th>\n",
       "      <th>Date of Birth</th>\n",
       "      <th>Contact Number</th>\n",
       "      <th>First Line of Address</th>\n",
       "    </tr>\n",
       "  </thead>\n",
       "  <tbody>\n",
       "    <tr>\n",
       "      <th>0</th>\n",
       "      <td>70390615</td>\n",
       "      <td>Mahmoud Hehnke</td>\n",
       "      <td>28/08/1995</td>\n",
       "      <td>7479286250</td>\n",
       "      <td>18535 Loftsgordon Park</td>\n",
       "    </tr>\n",
       "    <tr>\n",
       "      <th>1</th>\n",
       "      <td>20123998</td>\n",
       "      <td>Maynord Surgeoner</td>\n",
       "      <td>21/08/1997</td>\n",
       "      <td>7716107305</td>\n",
       "      <td>6422 Buena Vista Plaza</td>\n",
       "    </tr>\n",
       "    <tr>\n",
       "      <th>2</th>\n",
       "      <td>54374080</td>\n",
       "      <td>Giraldo Kimbley</td>\n",
       "      <td>22/03/1995</td>\n",
       "      <td>7489940612</td>\n",
       "      <td>93005 Summer Ridge Avenue</td>\n",
       "    </tr>\n",
       "    <tr>\n",
       "      <th>3</th>\n",
       "      <td>97027297</td>\n",
       "      <td>Blake Dudson</td>\n",
       "      <td>30/06/1955</td>\n",
       "      <td>7253587445</td>\n",
       "      <td>2 Huxley Hill</td>\n",
       "    </tr>\n",
       "    <tr>\n",
       "      <th>4</th>\n",
       "      <td>89920386</td>\n",
       "      <td>Ajay Douce</td>\n",
       "      <td>19/12/1930</td>\n",
       "      <td>7395580534</td>\n",
       "      <td>90176 Miller Alley</td>\n",
       "    </tr>\n",
       "  </tbody>\n",
       "</table>\n",
       "</div>"
      ],
      "text/plain": [
       "   Account Holder ID               Name Date of Birth  Contact Number  \\\n",
       "0           70390615     Mahmoud Hehnke    28/08/1995      7479286250   \n",
       "1           20123998  Maynord Surgeoner    21/08/1997      7716107305   \n",
       "2           54374080    Giraldo Kimbley    22/03/1995      7489940612   \n",
       "3           97027297       Blake Dudson    30/06/1955      7253587445   \n",
       "4           89920386         Ajay Douce    19/12/1930      7395580534   \n",
       "\n",
       "       First Line of Address  \n",
       "0     18535 Loftsgordon Park  \n",
       "1     6422 Buena Vista Plaza  \n",
       "2  93005 Summer Ridge Avenue  \n",
       "3              2 Huxley Hill  \n",
       "4         90176 Miller Alley  "
      ]
     },
     "execution_count": 11,
     "metadata": {},
     "output_type": "execute_result"
    }
   ],
   "source": [
    "acc_holders.head(5)"
   ]
  },
  {
   "cell_type": "code",
   "execution_count": 12,
   "metadata": {},
   "outputs": [
    {
     "data": {
      "text/html": [
       "<div>\n",
       "<style scoped>\n",
       "    .dataframe tbody tr th:only-of-type {\n",
       "        vertical-align: middle;\n",
       "    }\n",
       "\n",
       "    .dataframe tbody tr th {\n",
       "        vertical-align: top;\n",
       "    }\n",
       "\n",
       "    .dataframe thead th {\n",
       "        text-align: right;\n",
       "    }\n",
       "</style>\n",
       "<table border=\"1\" class=\"dataframe\">\n",
       "  <thead>\n",
       "    <tr style=\"text-align: right;\">\n",
       "      <th></th>\n",
       "      <th>Account Holder ID</th>\n",
       "      <th>Name</th>\n",
       "      <th>Date of Birth</th>\n",
       "      <th>Contact Number</th>\n",
       "      <th>First Line of Address</th>\n",
       "    </tr>\n",
       "  </thead>\n",
       "  <tbody>\n",
       "    <tr>\n",
       "      <th>0</th>\n",
       "      <td>70390615</td>\n",
       "      <td>Mahmoud Hehnke</td>\n",
       "      <td>28/08/1995</td>\n",
       "      <td>07479286250</td>\n",
       "      <td>18535 Loftsgordon Park</td>\n",
       "    </tr>\n",
       "    <tr>\n",
       "      <th>1</th>\n",
       "      <td>20123998</td>\n",
       "      <td>Maynord Surgeoner</td>\n",
       "      <td>21/08/1997</td>\n",
       "      <td>07716107305</td>\n",
       "      <td>6422 Buena Vista Plaza</td>\n",
       "    </tr>\n",
       "    <tr>\n",
       "      <th>2</th>\n",
       "      <td>54374080</td>\n",
       "      <td>Giraldo Kimbley</td>\n",
       "      <td>22/03/1995</td>\n",
       "      <td>07489940612</td>\n",
       "      <td>93005 Summer Ridge Avenue</td>\n",
       "    </tr>\n",
       "    <tr>\n",
       "      <th>3</th>\n",
       "      <td>97027297</td>\n",
       "      <td>Blake Dudson</td>\n",
       "      <td>30/06/1955</td>\n",
       "      <td>07253587445</td>\n",
       "      <td>2 Huxley Hill</td>\n",
       "    </tr>\n",
       "    <tr>\n",
       "      <th>4</th>\n",
       "      <td>89920386</td>\n",
       "      <td>Ajay Douce</td>\n",
       "      <td>19/12/1930</td>\n",
       "      <td>07395580534</td>\n",
       "      <td>90176 Miller Alley</td>\n",
       "    </tr>\n",
       "  </tbody>\n",
       "</table>\n",
       "</div>"
      ],
      "text/plain": [
       "   Account Holder ID               Name Date of Birth Contact Number  \\\n",
       "0           70390615     Mahmoud Hehnke    28/08/1995    07479286250   \n",
       "1           20123998  Maynord Surgeoner    21/08/1997    07716107305   \n",
       "2           54374080    Giraldo Kimbley    22/03/1995    07489940612   \n",
       "3           97027297       Blake Dudson    30/06/1955    07253587445   \n",
       "4           89920386         Ajay Douce    19/12/1930    07395580534   \n",
       "\n",
       "       First Line of Address  \n",
       "0     18535 Loftsgordon Park  \n",
       "1     6422 Buena Vista Plaza  \n",
       "2  93005 Summer Ridge Avenue  \n",
       "3              2 Huxley Hill  \n",
       "4         90176 Miller Alley  "
      ]
     },
     "execution_count": 12,
     "metadata": {},
     "output_type": "execute_result"
    }
   ],
   "source": [
    "z = '0'\n",
    "acc_holders['Contact Number'] = [z+str(x) for x in acc_holders['Contact Number']] \n",
    "acc_holders.head(5)"
   ]
  },
  {
   "attachments": {},
   "cell_type": "markdown",
   "metadata": {},
   "source": [
    "# Bring the tables together"
   ]
  },
  {
   "cell_type": "code",
   "execution_count": 13,
   "metadata": {},
   "outputs": [
    {
     "name": "stdout",
     "output_type": "stream",
     "text": [
      "<class 'pandas.core.frame.DataFrame'>\n",
      "RangeIndex: 8781 entries, 0 to 8780\n",
      "Data columns (total 4 columns):\n",
      " #   Column            Non-Null Count  Dtype  \n",
      "---  ------            --------------  -----  \n",
      " 0   Transaction ID    8781 non-null   int64  \n",
      " 1   Transaction Date  8781 non-null   object \n",
      " 2   Value             8781 non-null   float64\n",
      " 3   Cancelled?        8781 non-null   object \n",
      "dtypes: float64(1), int64(1), object(2)\n",
      "memory usage: 274.5+ KB\n",
      "<class 'pandas.core.frame.DataFrame'>\n",
      "RangeIndex: 8781 entries, 0 to 8780\n",
      "Data columns (total 3 columns):\n",
      " #   Column          Non-Null Count  Dtype\n",
      "---  ------          --------------  -----\n",
      " 0   Transaction ID  8781 non-null   int64\n",
      " 1   Account To      8781 non-null   int64\n",
      " 2   Account From    8781 non-null   int64\n",
      "dtypes: int64(3)\n",
      "memory usage: 205.9 KB\n"
     ]
    }
   ],
   "source": [
    "trans_details.info()\n",
    "trans_path.info()"
   ]
  },
  {
   "cell_type": "code",
   "execution_count": 14,
   "metadata": {},
   "outputs": [
    {
     "name": "stdout",
     "output_type": "stream",
     "text": [
      "<class 'pandas.core.frame.DataFrame'>\n",
      "Int64Index: 8781 entries, 0 to 8780\n",
      "Data columns (total 6 columns):\n",
      " #   Column            Non-Null Count  Dtype  \n",
      "---  ------            --------------  -----  \n",
      " 0   Transaction ID    8781 non-null   int64  \n",
      " 1   Account To        8781 non-null   int64  \n",
      " 2   Account From      8781 non-null   int64  \n",
      " 3   Transaction Date  8781 non-null   object \n",
      " 4   Value             8781 non-null   float64\n",
      " 5   Cancelled?        8781 non-null   object \n",
      "dtypes: float64(1), int64(3), object(2)\n",
      "memory usage: 480.2+ KB\n"
     ]
    }
   ],
   "source": [
    "trans_df = trans_path.merge(trans_details, how='left', on='Transaction ID')\n",
    "trans_df.info()"
   ]
  },
  {
   "cell_type": "code",
   "execution_count": 15,
   "metadata": {},
   "outputs": [
    {
     "name": "stdout",
     "output_type": "stream",
     "text": [
      "<class 'pandas.core.frame.DataFrame'>\n",
      "RangeIndex: 3072 entries, 0 to 3071\n",
      "Data columns (total 5 columns):\n",
      " #   Column                 Non-Null Count  Dtype \n",
      "---  ------                 --------------  ----- \n",
      " 0   Account Holder ID      3072 non-null   int64 \n",
      " 1   Name                   3072 non-null   object\n",
      " 2   Date of Birth          3072 non-null   object\n",
      " 3   Contact Number         3072 non-null   object\n",
      " 4   First Line of Address  3072 non-null   object\n",
      "dtypes: int64(1), object(4)\n",
      "memory usage: 120.1+ KB\n",
      "<class 'pandas.core.frame.DataFrame'>\n",
      "Int64Index: 3072 entries, 0 to 3071\n",
      "Data columns (total 5 columns):\n",
      " #   Column             Non-Null Count  Dtype  \n",
      "---  ------             --------------  -----  \n",
      " 0   Account Number     3072 non-null   int64  \n",
      " 1   Account Type       3072 non-null   object \n",
      " 2   Account Holder ID  3072 non-null   object \n",
      " 3   Balance Date       3072 non-null   object \n",
      " 4   Balance            3072 non-null   float64\n",
      "dtypes: float64(1), int64(1), object(3)\n",
      "memory usage: 144.0+ KB\n"
     ]
    }
   ],
   "source": [
    "acc_holders.info()\n",
    "acc_info.info()"
   ]
  },
  {
   "cell_type": "code",
   "execution_count": 16,
   "metadata": {},
   "outputs": [],
   "source": [
    "acc_info['Account Holder ID'] = acc_info['Account Holder ID'].astype(int)"
   ]
  },
  {
   "cell_type": "code",
   "execution_count": 17,
   "metadata": {},
   "outputs": [
    {
     "name": "stdout",
     "output_type": "stream",
     "text": [
      "<class 'pandas.core.frame.DataFrame'>\n",
      "Int64Index: 3072 entries, 0 to 3071\n",
      "Data columns (total 9 columns):\n",
      " #   Column                 Non-Null Count  Dtype  \n",
      "---  ------                 --------------  -----  \n",
      " 0   Account Number         3072 non-null   int64  \n",
      " 1   Account Type           3072 non-null   object \n",
      " 2   Account Holder ID      3072 non-null   int32  \n",
      " 3   Balance Date           3072 non-null   object \n",
      " 4   Balance                3072 non-null   float64\n",
      " 5   Name                   3072 non-null   object \n",
      " 6   Date of Birth          3072 non-null   object \n",
      " 7   Contact Number         3072 non-null   object \n",
      " 8   First Line of Address  3072 non-null   object \n",
      "dtypes: float64(1), int32(1), int64(1), object(6)\n",
      "memory usage: 228.0+ KB\n",
      "<class 'pandas.core.frame.DataFrame'>\n",
      "Int64Index: 8781 entries, 0 to 8780\n",
      "Data columns (total 6 columns):\n",
      " #   Column            Non-Null Count  Dtype  \n",
      "---  ------            --------------  -----  \n",
      " 0   Transaction ID    8781 non-null   int64  \n",
      " 1   Account To        8781 non-null   int64  \n",
      " 2   Account From      8781 non-null   int64  \n",
      " 3   Transaction Date  8781 non-null   object \n",
      " 4   Value             8781 non-null   float64\n",
      " 5   Cancelled?        8781 non-null   object \n",
      "dtypes: float64(1), int64(3), object(2)\n",
      "memory usage: 480.2+ KB\n"
     ]
    },
    {
     "data": {
      "text/plain": [
       "(None, None)"
      ]
     },
     "execution_count": 17,
     "metadata": {},
     "output_type": "execute_result"
    }
   ],
   "source": [
    "acc_df = acc_info.merge(acc_holders, how='left', on='Account Holder ID')\n",
    "acc_df.info(),trans_df.info()"
   ]
  },
  {
   "cell_type": "code",
   "execution_count": 18,
   "metadata": {},
   "outputs": [
    {
     "name": "stdout",
     "output_type": "stream",
     "text": [
      "<class 'pandas.core.frame.DataFrame'>\n",
      "Int64Index: 8781 entries, 0 to 8780\n",
      "Data columns (total 6 columns):\n",
      " #   Column            Non-Null Count  Dtype  \n",
      "---  ------            --------------  -----  \n",
      " 0   Transaction ID    8781 non-null   int64  \n",
      " 1   Account To        8781 non-null   int64  \n",
      " 2   Account Number    8781 non-null   int64  \n",
      " 3   Transaction Date  8781 non-null   object \n",
      " 4   Value             8781 non-null   float64\n",
      " 5   Cancelled?        8781 non-null   object \n",
      "dtypes: float64(1), int64(3), object(2)\n",
      "memory usage: 480.2+ KB\n"
     ]
    }
   ],
   "source": [
    "trans_df.rename(columns={'Account From': 'Account Number'}, inplace=True)\n",
    "trans_df.info()"
   ]
  },
  {
   "cell_type": "code",
   "execution_count": 19,
   "metadata": {},
   "outputs": [
    {
     "name": "stdout",
     "output_type": "stream",
     "text": [
      "<class 'pandas.core.frame.DataFrame'>\n",
      "Int64Index: 9152 entries, 0 to 9151\n",
      "Data columns (total 14 columns):\n",
      " #   Column                 Non-Null Count  Dtype  \n",
      "---  ------                 --------------  -----  \n",
      " 0   Account Number         9152 non-null   int64  \n",
      " 1   Account Type           9152 non-null   object \n",
      " 2   Account Holder ID      9152 non-null   int32  \n",
      " 3   Balance Date           9152 non-null   object \n",
      " 4   Balance                9152 non-null   float64\n",
      " 5   Name                   9152 non-null   object \n",
      " 6   Date of Birth          9152 non-null   object \n",
      " 7   Contact Number         9152 non-null   object \n",
      " 8   First Line of Address  9152 non-null   object \n",
      " 9   Transaction ID         8975 non-null   float64\n",
      " 10  Account To             8975 non-null   float64\n",
      " 11  Transaction Date       8975 non-null   object \n",
      " 12  Value                  8975 non-null   float64\n",
      " 13  Cancelled?             8975 non-null   object \n",
      "dtypes: float64(4), int32(1), int64(1), object(8)\n",
      "memory usage: 1.0+ MB\n"
     ]
    }
   ],
   "source": [
    "total_df = acc_df.merge(trans_df, how='left', on='Account Number')\n",
    "total_df.info()"
   ]
  },
  {
   "attachments": {},
   "cell_type": "markdown",
   "metadata": {},
   "source": [
    "### Filter out cancelled transactions "
   ]
  },
  {
   "cell_type": "code",
   "execution_count": 20,
   "metadata": {},
   "outputs": [
    {
     "data": {
      "text/html": [
       "<div>\n",
       "<style scoped>\n",
       "    .dataframe tbody tr th:only-of-type {\n",
       "        vertical-align: middle;\n",
       "    }\n",
       "\n",
       "    .dataframe tbody tr th {\n",
       "        vertical-align: top;\n",
       "    }\n",
       "\n",
       "    .dataframe thead th {\n",
       "        text-align: right;\n",
       "    }\n",
       "</style>\n",
       "<table border=\"1\" class=\"dataframe\">\n",
       "  <thead>\n",
       "    <tr style=\"text-align: right;\">\n",
       "      <th></th>\n",
       "      <th>Account Number</th>\n",
       "      <th>Account Type</th>\n",
       "      <th>Account Holder ID</th>\n",
       "      <th>Balance Date</th>\n",
       "      <th>Balance</th>\n",
       "      <th>Name</th>\n",
       "      <th>Date of Birth</th>\n",
       "      <th>Contact Number</th>\n",
       "      <th>First Line of Address</th>\n",
       "      <th>Transaction ID</th>\n",
       "      <th>Account To</th>\n",
       "      <th>Transaction Date</th>\n",
       "      <th>Value</th>\n",
       "    </tr>\n",
       "    <tr>\n",
       "      <th>Cancelled?</th>\n",
       "      <th></th>\n",
       "      <th></th>\n",
       "      <th></th>\n",
       "      <th></th>\n",
       "      <th></th>\n",
       "      <th></th>\n",
       "      <th></th>\n",
       "      <th></th>\n",
       "      <th></th>\n",
       "      <th></th>\n",
       "      <th></th>\n",
       "      <th></th>\n",
       "      <th></th>\n",
       "    </tr>\n",
       "  </thead>\n",
       "  <tbody>\n",
       "    <tr>\n",
       "      <th>N</th>\n",
       "      <td>8879</td>\n",
       "      <td>8879</td>\n",
       "      <td>8879</td>\n",
       "      <td>8879</td>\n",
       "      <td>8879</td>\n",
       "      <td>8879</td>\n",
       "      <td>8879</td>\n",
       "      <td>8879</td>\n",
       "      <td>8879</td>\n",
       "      <td>8879</td>\n",
       "      <td>8879</td>\n",
       "      <td>8879</td>\n",
       "      <td>8879</td>\n",
       "    </tr>\n",
       "    <tr>\n",
       "      <th>Y</th>\n",
       "      <td>96</td>\n",
       "      <td>96</td>\n",
       "      <td>96</td>\n",
       "      <td>96</td>\n",
       "      <td>96</td>\n",
       "      <td>96</td>\n",
       "      <td>96</td>\n",
       "      <td>96</td>\n",
       "      <td>96</td>\n",
       "      <td>96</td>\n",
       "      <td>96</td>\n",
       "      <td>96</td>\n",
       "      <td>96</td>\n",
       "    </tr>\n",
       "  </tbody>\n",
       "</table>\n",
       "</div>"
      ],
      "text/plain": [
       "            Account Number  Account Type  Account Holder ID  Balance Date  \\\n",
       "Cancelled?                                                                  \n",
       "N                     8879          8879               8879          8879   \n",
       "Y                       96            96                 96            96   \n",
       "\n",
       "            Balance  Name  Date of Birth  Contact Number  \\\n",
       "Cancelled?                                                 \n",
       "N              8879  8879           8879            8879   \n",
       "Y                96    96             96              96   \n",
       "\n",
       "            First Line of Address  Transaction ID  Account To  \\\n",
       "Cancelled?                                                      \n",
       "N                            8879            8879        8879   \n",
       "Y                              96              96          96   \n",
       "\n",
       "            Transaction Date  Value  \n",
       "Cancelled?                           \n",
       "N                       8879   8879  \n",
       "Y                         96     96  "
      ]
     },
     "execution_count": 20,
     "metadata": {},
     "output_type": "execute_result"
    }
   ],
   "source": [
    "total_df.groupby('Cancelled?').count()"
   ]
  },
  {
   "cell_type": "code",
   "execution_count": 21,
   "metadata": {},
   "outputs": [
    {
     "name": "stdout",
     "output_type": "stream",
     "text": [
      "<class 'pandas.core.frame.DataFrame'>\n",
      "Int64Index: 9056 entries, 0 to 9151\n",
      "Data columns (total 14 columns):\n",
      " #   Column                 Non-Null Count  Dtype  \n",
      "---  ------                 --------------  -----  \n",
      " 0   Account Number         9056 non-null   int64  \n",
      " 1   Account Type           9056 non-null   object \n",
      " 2   Account Holder ID      9056 non-null   int32  \n",
      " 3   Balance Date           9056 non-null   object \n",
      " 4   Balance                9056 non-null   float64\n",
      " 5   Name                   9056 non-null   object \n",
      " 6   Date of Birth          9056 non-null   object \n",
      " 7   Contact Number         9056 non-null   object \n",
      " 8   First Line of Address  9056 non-null   object \n",
      " 9   Transaction ID         8879 non-null   float64\n",
      " 10  Account To             8879 non-null   float64\n",
      " 11  Transaction Date       8879 non-null   object \n",
      " 12  Value                  8879 non-null   float64\n",
      " 13  Cancelled?             8879 non-null   object \n",
      "dtypes: float64(4), int32(1), int64(1), object(8)\n",
      "memory usage: 1.0+ MB\n"
     ]
    }
   ],
   "source": [
    "total_df = total_df[total_df['Cancelled?'] != 'Y']\n",
    "total_df.info()"
   ]
  },
  {
   "cell_type": "code",
   "execution_count": 22,
   "metadata": {},
   "outputs": [
    {
     "data": {
      "text/html": [
       "<div>\n",
       "<style scoped>\n",
       "    .dataframe tbody tr th:only-of-type {\n",
       "        vertical-align: middle;\n",
       "    }\n",
       "\n",
       "    .dataframe tbody tr th {\n",
       "        vertical-align: top;\n",
       "    }\n",
       "\n",
       "    .dataframe thead th {\n",
       "        text-align: right;\n",
       "    }\n",
       "</style>\n",
       "<table border=\"1\" class=\"dataframe\">\n",
       "  <thead>\n",
       "    <tr style=\"text-align: right;\">\n",
       "      <th></th>\n",
       "      <th>Account Number</th>\n",
       "      <th>Account Type</th>\n",
       "      <th>Account Holder ID</th>\n",
       "      <th>Balance Date</th>\n",
       "      <th>Balance</th>\n",
       "      <th>Name</th>\n",
       "      <th>Date of Birth</th>\n",
       "      <th>Contact Number</th>\n",
       "      <th>First Line of Address</th>\n",
       "      <th>Transaction ID</th>\n",
       "      <th>Account To</th>\n",
       "      <th>Transaction Date</th>\n",
       "      <th>Value</th>\n",
       "      <th>Cancelled?</th>\n",
       "    </tr>\n",
       "  </thead>\n",
       "  <tbody>\n",
       "    <tr>\n",
       "      <th>0</th>\n",
       "      <td>10005367</td>\n",
       "      <td>Platinum</td>\n",
       "      <td>70390615</td>\n",
       "      <td>2023-01-31</td>\n",
       "      <td>728.25</td>\n",
       "      <td>Mahmoud Hehnke</td>\n",
       "      <td>28/08/1995</td>\n",
       "      <td>07479286250</td>\n",
       "      <td>18535 Loftsgordon Park</td>\n",
       "      <td>1.711865e+09</td>\n",
       "      <td>43772330.0</td>\n",
       "      <td>2023-02-08</td>\n",
       "      <td>65.49</td>\n",
       "      <td>N</td>\n",
       "    </tr>\n",
       "    <tr>\n",
       "      <th>1</th>\n",
       "      <td>10005367</td>\n",
       "      <td>Platinum</td>\n",
       "      <td>70390615</td>\n",
       "      <td>2023-01-31</td>\n",
       "      <td>728.25</td>\n",
       "      <td>Mahmoud Hehnke</td>\n",
       "      <td>28/08/1995</td>\n",
       "      <td>07479286250</td>\n",
       "      <td>18535 Loftsgordon Park</td>\n",
       "      <td>1.753187e+09</td>\n",
       "      <td>65199307.0</td>\n",
       "      <td>2023-02-02</td>\n",
       "      <td>1097.60</td>\n",
       "      <td>N</td>\n",
       "    </tr>\n",
       "    <tr>\n",
       "      <th>2</th>\n",
       "      <td>10005367</td>\n",
       "      <td>Platinum</td>\n",
       "      <td>70390615</td>\n",
       "      <td>2023-01-31</td>\n",
       "      <td>728.25</td>\n",
       "      <td>Mahmoud Hehnke</td>\n",
       "      <td>28/08/1995</td>\n",
       "      <td>07479286250</td>\n",
       "      <td>18535 Loftsgordon Park</td>\n",
       "      <td>3.011216e+09</td>\n",
       "      <td>44427272.0</td>\n",
       "      <td>2023-02-05</td>\n",
       "      <td>108.26</td>\n",
       "      <td>N</td>\n",
       "    </tr>\n",
       "    <tr>\n",
       "      <th>3</th>\n",
       "      <td>10005367</td>\n",
       "      <td>Platinum</td>\n",
       "      <td>70390615</td>\n",
       "      <td>2023-01-31</td>\n",
       "      <td>728.25</td>\n",
       "      <td>Mahmoud Hehnke</td>\n",
       "      <td>28/08/1995</td>\n",
       "      <td>07479286250</td>\n",
       "      <td>18535 Loftsgordon Park</td>\n",
       "      <td>8.072095e+09</td>\n",
       "      <td>34681193.0</td>\n",
       "      <td>2023-02-04</td>\n",
       "      <td>67.01</td>\n",
       "      <td>N</td>\n",
       "    </tr>\n",
       "    <tr>\n",
       "      <th>4</th>\n",
       "      <td>10005367</td>\n",
       "      <td>Platinum</td>\n",
       "      <td>70390615</td>\n",
       "      <td>2023-01-31</td>\n",
       "      <td>728.25</td>\n",
       "      <td>Mahmoud Hehnke</td>\n",
       "      <td>28/08/1995</td>\n",
       "      <td>07479286250</td>\n",
       "      <td>18535 Loftsgordon Park</td>\n",
       "      <td>9.755066e+09</td>\n",
       "      <td>39620163.0</td>\n",
       "      <td>2023-02-10</td>\n",
       "      <td>27.61</td>\n",
       "      <td>N</td>\n",
       "    </tr>\n",
       "  </tbody>\n",
       "</table>\n",
       "</div>"
      ],
      "text/plain": [
       "   Account Number Account Type  Account Holder ID Balance Date  Balance  \\\n",
       "0        10005367     Platinum           70390615   2023-01-31   728.25   \n",
       "1        10005367     Platinum           70390615   2023-01-31   728.25   \n",
       "2        10005367     Platinum           70390615   2023-01-31   728.25   \n",
       "3        10005367     Platinum           70390615   2023-01-31   728.25   \n",
       "4        10005367     Platinum           70390615   2023-01-31   728.25   \n",
       "\n",
       "             Name Date of Birth Contact Number   First Line of Address  \\\n",
       "0  Mahmoud Hehnke    28/08/1995    07479286250  18535 Loftsgordon Park   \n",
       "1  Mahmoud Hehnke    28/08/1995    07479286250  18535 Loftsgordon Park   \n",
       "2  Mahmoud Hehnke    28/08/1995    07479286250  18535 Loftsgordon Park   \n",
       "3  Mahmoud Hehnke    28/08/1995    07479286250  18535 Loftsgordon Park   \n",
       "4  Mahmoud Hehnke    28/08/1995    07479286250  18535 Loftsgordon Park   \n",
       "\n",
       "   Transaction ID  Account To Transaction Date    Value Cancelled?  \n",
       "0    1.711865e+09  43772330.0       2023-02-08    65.49          N  \n",
       "1    1.753187e+09  65199307.0       2023-02-02  1097.60          N  \n",
       "2    3.011216e+09  44427272.0       2023-02-05   108.26          N  \n",
       "3    8.072095e+09  34681193.0       2023-02-04    67.01          N  \n",
       "4    9.755066e+09  39620163.0       2023-02-10    27.61          N  "
      ]
     },
     "execution_count": 22,
     "metadata": {},
     "output_type": "execute_result"
    }
   ],
   "source": [
    "total_df.head(5)"
   ]
  },
  {
   "attachments": {},
   "cell_type": "markdown",
   "metadata": {},
   "source": [
    "### Filter to transactions greater than £1,000 in value"
   ]
  },
  {
   "cell_type": "code",
   "execution_count": 23,
   "metadata": {},
   "outputs": [
    {
     "name": "stdout",
     "output_type": "stream",
     "text": [
      "<class 'pandas.core.frame.DataFrame'>\n",
      "Int64Index: 565 entries, 1 to 9098\n",
      "Data columns (total 14 columns):\n",
      " #   Column                 Non-Null Count  Dtype  \n",
      "---  ------                 --------------  -----  \n",
      " 0   Account Number         565 non-null    int64  \n",
      " 1   Account Type           565 non-null    object \n",
      " 2   Account Holder ID      565 non-null    int32  \n",
      " 3   Balance Date           565 non-null    object \n",
      " 4   Balance                565 non-null    float64\n",
      " 5   Name                   565 non-null    object \n",
      " 6   Date of Birth          565 non-null    object \n",
      " 7   Contact Number         565 non-null    object \n",
      " 8   First Line of Address  565 non-null    object \n",
      " 9   Transaction ID         565 non-null    float64\n",
      " 10  Account To             565 non-null    float64\n",
      " 11  Transaction Date       565 non-null    object \n",
      " 12  Value                  565 non-null    float64\n",
      " 13  Cancelled?             565 non-null    object \n",
      "dtypes: float64(4), int32(1), int64(1), object(8)\n",
      "memory usage: 64.0+ KB\n"
     ]
    }
   ],
   "source": [
    "filtered_df = total_df[total_df['Value'] > 1000]\n",
    "filtered_df.info()"
   ]
  },
  {
   "attachments": {},
   "cell_type": "markdown",
   "metadata": {},
   "source": [
    "### Filter out Platinum accounts"
   ]
  },
  {
   "cell_type": "code",
   "execution_count": 24,
   "metadata": {},
   "outputs": [
    {
     "name": "stdout",
     "output_type": "stream",
     "text": [
      "<class 'pandas.core.frame.DataFrame'>\n",
      "Int64Index: 476 entries, 30 to 9098\n",
      "Data columns (total 14 columns):\n",
      " #   Column                 Non-Null Count  Dtype  \n",
      "---  ------                 --------------  -----  \n",
      " 0   Account Number         476 non-null    int64  \n",
      " 1   Account Type           476 non-null    object \n",
      " 2   Account Holder ID      476 non-null    int32  \n",
      " 3   Balance Date           476 non-null    object \n",
      " 4   Balance                476 non-null    float64\n",
      " 5   Name                   476 non-null    object \n",
      " 6   Date of Birth          476 non-null    object \n",
      " 7   Contact Number         476 non-null    object \n",
      " 8   First Line of Address  476 non-null    object \n",
      " 9   Transaction ID         476 non-null    float64\n",
      " 10  Account To             476 non-null    float64\n",
      " 11  Transaction Date       476 non-null    object \n",
      " 12  Value                  476 non-null    float64\n",
      " 13  Cancelled?             476 non-null    object \n",
      "dtypes: float64(4), int32(1), int64(1), object(8)\n",
      "memory usage: 53.9+ KB\n"
     ]
    }
   ],
   "source": [
    "filtered_df = filtered_df[filtered_df['Account Type'] != 'Platinum']\n",
    "filtered_df.info()"
   ]
  },
  {
   "cell_type": "code",
   "execution_count": 25,
   "metadata": {},
   "outputs": [],
   "source": [
    "filtered_df.to_csv('output.csv', index=False)"
   ]
  }
 ],
 "metadata": {
  "kernelspec": {
   "display_name": "base",
   "language": "python",
   "name": "python3"
  },
  "language_info": {
   "codemirror_mode": {
    "name": "ipython",
    "version": 3
   },
   "file_extension": ".py",
   "mimetype": "text/x-python",
   "name": "python",
   "nbconvert_exporter": "python",
   "pygments_lexer": "ipython3",
   "version": "3.10.9"
  },
  "orig_nbformat": 4
 },
 "nbformat": 4,
 "nbformat_minor": 2
}
